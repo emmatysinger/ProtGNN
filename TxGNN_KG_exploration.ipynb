{
 "cells": [
  {
   "cell_type": "code",
   "execution_count": null,
   "metadata": {},
   "outputs": [],
   "source": [
    "from txgnn import TxData, TxGNN, TxEval\n",
    "import requests\n",
    "\n",
    "TxData = TxData(data_folder_path = '/Users/emmatysinger/Develop/meng/kg/')"
   ]
  },
  {
   "cell_type": "code",
   "execution_count": null,
   "metadata": {},
   "outputs": [],
   "source": [
    "import pandas as pd\n",
    "import matplotlib.pyplot as plt\n",
    "import seaborn as sns\n",
    "\n",
    "# Load the data\n",
    "kg_df = pd.read_csv('../kg/kg.csv')\n",
    "nodes_df = pd.read_csv('../kg/node.csv', sep='\\t')\n",
    "edges_df = pd.read_csv('../kg/edges.csv')\n"
   ]
  },
  {
   "cell_type": "code",
   "execution_count": null,
   "metadata": {},
   "outputs": [],
   "source": [
    "from Bio import SeqIO\n",
    "\n",
    "def count_sequences(file_name):\n",
    "    count = 0\n",
    "    with open(file_name, \"r\") as file:\n",
    "        for record in SeqIO.parse(file, \"fasta\"):\n",
    "            count += 1\n",
    "    return count\n",
    "\n",
    "# Replace 'gene_sequences_1.fasta' with the path to your FASTA file\n",
    "number_of_sequences = count_sequences('embeddings/gene_sequences_3.fasta')\n",
    "print(f\"Number of sequences: {number_of_sequences}\")\n"
   ]
  },
  {
   "cell_type": "markdown",
   "metadata": {},
   "source": [
    "## Node Exploration"
   ]
  },
  {
   "cell_type": "code",
   "execution_count": null,
   "metadata": {},
   "outputs": [],
   "source": [
    "print(\"Node Data:\")\n",
    "nodes_df.head()"
   ]
  },
  {
   "cell_type": "code",
   "execution_count": null,
   "metadata": {},
   "outputs": [],
   "source": [
    "handle = Entrez.esearch(db=\"protein\", retmax=10, term='GPANK1')\n",
    "record = Entrez.read(handle)\n",
    "handle.close()\n",
    "record[\"IdList\"]"
   ]
  },
  {
   "cell_type": "code",
   "execution_count": null,
   "metadata": {},
   "outputs": [],
   "source": [
    "handle = Entrez.efetch(db=\"protein\", id=record[\"IdList\"][0], rettype=\"fasta\", retmode=\"text\")\n",
    "gene_data = handle.read()\n",
    "handle.close()\n",
    "gene_data"
   ]
  },
  {
   "cell_type": "code",
   "execution_count": null,
   "metadata": {},
   "outputs": [],
   "source": [
    "handle = Entrez.efetch(db=\"protein\", id=record[\"IdList\"][1], rettype=\"fasta\", retmode=\"text\")\n",
    "gene_data = handle.read()\n",
    "handle.close()\n",
    "gene_data"
   ]
  },
  {
   "cell_type": "code",
   "execution_count": null,
   "metadata": {},
   "outputs": [],
   "source": [
    "from Bio import Entrez\n",
    "import time\n",
    "\n",
    "# Always tell NCBI who you are (email)\n",
    "Entrez.email = \"tysinger@mit.edu\"\n",
    "\n",
    "def fetch_sequences(id_list, output_file, gene_id_dict):\n",
    "    with open(output_file, 'w') as outfile:\n",
    "        for i, gene_id in enumerate(id_list):\n",
    "            # Fetch the sequence\n",
    "            if i%10 == 0:\n",
    "                print(i)\n",
    "            handle = Entrez.esearch(db=\"protein\", retmax=10, term=gene_id, idtype='acc')\n",
    "            record = Entrez.read(handle)\n",
    "            handle.close()\n",
    "            id_list = record[\"IdList\"]\n",
    "            gene_id_dict[id_list[0]] = gene_id\n",
    "\n",
    "            handle = Entrez.efetch(db=\"protein\", id=id_list[0], rettype=\"fasta\", retmode=\"text\")\n",
    "            gene_data = handle.read()\n",
    "            handle.close()\n",
    "            \n",
    "            # Write the sequence to a file\n",
    "            outfile.write(gene_data)\n",
    "            \n",
    "            # NCBI recommends not to send more than 3 requests per second to avoid overload\n",
    "            # on their servers, so we wait for a third of a second before the next request\n",
    "            time.sleep(1)\n",
    "    return gene_id_dict\n",
    "\n",
    "# Example usage\n",
    "gene_ids = list(nodes_df[nodes_df.node_type == 'gene/protein']['node_name'])[:200]  \n",
    "output_filename = \"gene_sequences.fasta\"  \n",
    "gene_id_dict = {}\n",
    "gene_id_dict = fetch_sequences(gene_ids, output_filename, gene_id_dict)\n"
   ]
  },
  {
   "cell_type": "code",
   "execution_count": null,
   "metadata": {},
   "outputs": [],
   "source": [
    "import pathlib\n",
    "import torch\n",
    "\n",
    "from esm import FastaBatchedDataset, pretrained"
   ]
  },
  {
   "cell_type": "code",
   "execution_count": null,
   "metadata": {},
   "outputs": [],
   "source": [
    "def extract_embeddings(model_name, fasta_file, output_dir, gene_dict, tokens_per_batch=4096, seq_length=1022,repr_layers=[33]):\n",
    "    \n",
    "    model, alphabet = pretrained.load_model_and_alphabet(model_name)\n",
    "    model.eval()\n",
    "\n",
    "    if torch.cuda.is_available():\n",
    "        model = model.cuda()\n",
    "        \n",
    "    dataset = FastaBatchedDataset.from_file(fasta_file)\n",
    "    batches = dataset.get_batch_indices(tokens_per_batch, extra_toks_per_seq=1)\n",
    "\n",
    "    data_loader = torch.utils.data.DataLoader(\n",
    "        dataset, \n",
    "        collate_fn=alphabet.get_batch_converter(seq_length), \n",
    "        batch_sampler=batches\n",
    "    )\n",
    "\n",
    "    output_dir.mkdir(parents=True, exist_ok=True)\n",
    "    \n",
    "    with torch.no_grad():\n",
    "        for batch_idx, (labels, strs, toks) in enumerate(data_loader):\n",
    "\n",
    "            print(f'Processing batch {batch_idx + 1} of {len(batches)}')\n",
    "\n",
    "            if torch.cuda.is_available():\n",
    "                toks = toks.to(device=\"cuda\", non_blocking=True)\n",
    "\n",
    "            out = model(toks, repr_layers=repr_layers, return_contacts=False)\n",
    "\n",
    "            logits = out[\"logits\"].to(device=\"cpu\")\n",
    "            representations = {layer: t.to(device=\"cpu\") for layer, t in out[\"representations\"].items()}\n",
    "            \n",
    "            for i, label in enumerate(labels):\n",
    "                entry_id = label.split()[0]\n",
    "                try:\n",
    "                    gene_id = gene_dict[entry_id]\n",
    "                except:\n",
    "                    entry_id = entry_id.split('|')[1]\n",
    "                    gene_id = gene_dict[entry_id]\n",
    "                \n",
    "                filename = output_dir / f\"{gene_id}.pt\"\n",
    "                truncate_len = min(seq_length, len(strs[i]))\n",
    "\n",
    "                result = {\"gene_id\": gene_id, \n",
    "                          \"entry_id\": entry_id}\n",
    "                result[\"mean_representations\"] = {\n",
    "                        layer: t[i, 1 : truncate_len + 1].mean(0).clone()\n",
    "                        for layer, t in representations.items()\n",
    "                    }\n",
    "\n",
    "                torch.save(result, filename)"
   ]
  },
  {
   "cell_type": "code",
   "execution_count": null,
   "metadata": {},
   "outputs": [],
   "source": [
    "gene_id_dict"
   ]
  },
  {
   "cell_type": "code",
   "execution_count": null,
   "metadata": {},
   "outputs": [],
   "source": [
    "model_name = 'esm2_t33_650M_UR50D'\n",
    "fasta_file = pathlib.Path('./gene_sequences.fasta')\n",
    "output_dir = pathlib.Path('train_embeddings')\n",
    "\n",
    "extract_embeddings(model_name, fasta_file, output_dir, gene_id_dict)\n"
   ]
  },
  {
   "cell_type": "code",
   "execution_count": null,
   "metadata": {},
   "outputs": [],
   "source": [
    "import torch\n",
    "\n",
    "embedding = torch.load('train_embeddings/XP_060544080.1.pt')\n",
    "embedding = embedding['mean_representations'][33].numpy()"
   ]
  },
  {
   "cell_type": "code",
   "execution_count": null,
   "metadata": {},
   "outputs": [],
   "source": [
    "embedding.shape"
   ]
  },
  {
   "cell_type": "code",
   "execution_count": null,
   "metadata": {},
   "outputs": [],
   "source": [
    "len(set(nodes_df[nodes_df.node_type == 'gene/protein']['node_name']))"
   ]
  },
  {
   "cell_type": "code",
   "execution_count": null,
   "metadata": {},
   "outputs": [],
   "source": [
    "# getting unique node types\n",
    "unique_node_types = nodes_df['node_type'].value_counts()\n",
    "unique_node_types_df = unique_node_types.to_frame().reset_index()\n",
    "unique_node_types_df.columns = ['node_type', 'count']\n",
    "unique_node_types_df\n"
   ]
  },
  {
   "cell_type": "code",
   "execution_count": null,
   "metadata": {},
   "outputs": [],
   "source": [
    "# get protein nodes\n",
    "protein_nodes = nodes_df[nodes_df['node_type'] == 'gene/protein']\n",
    "protein_nodes.set_index('node_index', inplace=True)\n",
    "protein_nodes"
   ]
  },
  {
   "cell_type": "code",
   "execution_count": null,
   "metadata": {},
   "outputs": [],
   "source": [
    "# getting unique sources\n",
    "unique_sources = protein_nodes['node_source'].value_counts()\n",
    "unique_sources_df = unique_sources.to_frame().reset_index()\n",
    "unique_sources_df.columns = ['node_source', 'count']\n",
    "unique_sources_df"
   ]
  },
  {
   "cell_type": "markdown",
   "metadata": {},
   "source": [
    "## Edge Exploration"
   ]
  },
  {
   "cell_type": "code",
   "execution_count": null,
   "metadata": {},
   "outputs": [],
   "source": [
    "print(\"Edges Data:\")\n",
    "edges_df.head()"
   ]
  },
  {
   "cell_type": "code",
   "execution_count": null,
   "metadata": {},
   "outputs": [],
   "source": [
    "print('Unique relations: ')\n",
    "unique_relations = edges_df['relation'].value_counts()\n",
    "unique_relations_df = unique_relations.to_frame().reset_index()\n",
    "unique_relations_df.columns = ['relation', 'count']\n",
    "unique_relations_df"
   ]
  },
  {
   "cell_type": "code",
   "execution_count": null,
   "metadata": {},
   "outputs": [],
   "source": [
    "relation_sources = unique_kg_df_proteins[['relation', 'y_source']].drop_duplicates(subset=['relation'], keep='first').reset_index(drop=True).rename(columns={'y_source': 'data_source'})\n",
    "relation_sources"
   ]
  },
  {
   "cell_type": "code",
   "execution_count": null,
   "metadata": {},
   "outputs": [],
   "source": [
    "# unique relations containing protein\n",
    "protein_relations = unique_relations_df[unique_relations_df.relation.str.contains('protein')].reset_index(drop=True)\n",
    "protein_relations = merged_df = pd.merge(protein_relations, relation_sources, on='relation', how='left')\n",
    "protein_relations['relation'] = ['Anatomy Present', 'Protein', 'Biological Process', 'Cellular Component', 'Disease', 'Molecular Function',\n",
    "                                 'Pathway', 'Drug', 'Anatomy Absent', 'Phenotype', 'Exposure']\n",
    "\n",
    "plt.figure(figsize=(8, 4))  # Adjust the figure size as needed\n",
    "sns.barplot(x='count', y='relation', data=protein_relations, hue='data_source',dodge=False)\n",
    "\n",
    "# Set plot labels and title\n",
    "plt.xlabel('Count')\n",
    "plt.ylabel('')\n",
    "plt.title('Relations containing Protein')\n",
    "plt.legend(title='Data Source')\n",
    "\n",
    "# Show the plot\n",
    "plt.show()"
   ]
  },
  {
   "cell_type": "code",
   "execution_count": null,
   "metadata": {},
   "outputs": [],
   "source": [
    "protein_relations"
   ]
  },
  {
   "cell_type": "code",
   "execution_count": null,
   "metadata": {},
   "outputs": [],
   "source": [
    "print('Unique display relations: ')\n",
    "unique_display_relations = edges_df['display_relation'].value_counts()\n",
    "unique_display_relations_df = unique_display_relations.to_frame().reset_index()\n",
    "unique_display_relations_df.columns = ['display relation', 'count']\n",
    "unique_display_relations_df"
   ]
  },
  {
   "cell_type": "code",
   "execution_count": null,
   "metadata": {},
   "outputs": [],
   "source": [
    "unique_pairs_counts = edges_df.groupby(['relation', 'display_relation']).size().reset_index(name='count')\n",
    "unique_pair_counts_df = unique_pairs_counts\n",
    "unique_pair_counts_df.columns = ['relation','display relation', 'count']\n",
    "unique_pair_counts_df[unique_pair_counts_df.relation.str.contains('protein')].reset_index(drop=True)"
   ]
  },
  {
   "cell_type": "markdown",
   "metadata": {},
   "source": [
    "## Whole Knowledge Graph Exploration"
   ]
  },
  {
   "cell_type": "code",
   "execution_count": null,
   "metadata": {},
   "outputs": [],
   "source": [
    "print(\"Knowledge Graph Data:\")\n",
    "kg_df.head()"
   ]
  },
  {
   "cell_type": "code",
   "execution_count": null,
   "metadata": {},
   "outputs": [],
   "source": [
    "unique_kg_df = kg_df.groupby(['relation', 'display_relation','x_type', 'y_type', 'y_source']).size().reset_index(name='count')\n",
    "unique_kg_df_proteins = unique_kg_df[(unique_kg_df['x_type'] == 'gene/protein') & (unique_kg_df['relation'].str.contains('protein'))].reset_index(drop=True)\n",
    "unique_kg_df_proteins"
   ]
  },
  {
   "cell_type": "code",
   "execution_count": null,
   "metadata": {},
   "outputs": [],
   "source": [
    "unique_molecular_function_kg = kg_df[(kg_df['relation'] == 'molfunc_protein')&(kg_df['x_type'] == 'gene/protein')][['y_name']].drop_duplicates().reset_index(drop=True)\n",
    "unique_molecular_function_kg"
   ]
  },
  {
   "cell_type": "code",
   "execution_count": null,
   "metadata": {},
   "outputs": [],
   "source": [
    "protein_molecular_func = kg_df[(kg_df['relation'] == 'molfunc_protein')&(kg_df['x_type'] == 'gene/protein')].groupby('x_name').size().reset_index(name='number of molfunc relations')\n",
    "protein_pathway = kg_df[(kg_df['relation'] == 'pathway_protein')&(kg_df['x_type'] == 'gene/protein')].groupby('x_name').size().reset_index(name='number of pathway relations')\n",
    "protein_disease = kg_df[(kg_df['relation'] == 'disease_protein')&(kg_df['x_type'] == 'gene/protein')].groupby('x_name').size().reset_index(name='number of disease relations')\n"
   ]
  },
  {
   "cell_type": "code",
   "execution_count": null,
   "metadata": {},
   "outputs": [],
   "source": [
    "merged_df = pd.merge(protein_molecular_func, protein_pathway, on='x_name', how='outer')\n",
    "merged_df = pd.merge(merged_df, protein_disease, on='x_name', how='outer')\n",
    "merged_df.fillna(0, inplace=True)\n",
    "merged_df\n"
   ]
  },
  {
   "cell_type": "code",
   "execution_count": null,
   "metadata": {},
   "outputs": [],
   "source": [
    "grouped_molfunc_df = merged_df.groupby('number of molfunc relations').size().reset_index(name='molfunc')\n",
    "grouped_molfunc_df = grouped_molfunc_df.rename(columns={'number of molfunc relations': 'number of relations'})\n",
    "\n",
    "grouped_pathway_df = merged_df.groupby('number of pathway relations').size().reset_index(name='pathway')\n",
    "grouped_pathway_df = grouped_pathway_df.rename(columns={'number of pathway relations': 'number of relations'})\n",
    "\n",
    "grouped_disease_df = merged_df.groupby('number of disease relations').size().reset_index(name='disease')\n",
    "grouped_disease_df = grouped_disease_df.rename(columns={'number of disease relations': 'number of relations'})"
   ]
  },
  {
   "cell_type": "code",
   "execution_count": null,
   "metadata": {},
   "outputs": [],
   "source": [
    "merged_grouped_df = pd.merge(grouped_molfunc_df, grouped_pathway_df, on='number of relations', how='outer')\n",
    "merged_grouped_df = pd.merge(merged_grouped_df, grouped_disease_df, on='number of relations', how='outer')\n",
    "merged_grouped_df.fillna(0, inplace=True)\n",
    "merged_grouped_df"
   ]
  },
  {
   "cell_type": "code",
   "execution_count": null,
   "metadata": {},
   "outputs": [],
   "source": [
    "# Group the data by the number of molfunc relations and count the number of proteins\n",
    "grouped_df = protein_molecular_func.groupby('number of molfunc relations').size().reset_index(name='number of proteins')\n",
    "\n",
    "# Create the bar chart\n",
    "plt.bar(grouped_df['number of molfunc relations'], grouped_df['number of proteins'])\n",
    "\n",
    "# Customize the chart labels and title\n",
    "plt.xlabel('Number of Molfunc Relations')\n",
    "plt.ylabel('Number of Proteins')\n",
    "plt.title('Protein Molecular Function')\n",
    "\n",
    "# Display the chart\n",
    "plt.show()\n"
   ]
  },
  {
   "cell_type": "code",
   "execution_count": null,
   "metadata": {},
   "outputs": [],
   "source": [
    "# Group the data by the number of molfunc relations and count the number of proteins\n",
    "grouped_df = protein_pathway.groupby('number of pathway relations').size().reset_index(name='number of proteins')\n",
    "grouped_df = grouped_df[grouped_df['number of pathway relations']<=60]\n",
    "\n",
    "# Create the bar chart\n",
    "plt.bar(grouped_df['number of pathway relations'], grouped_df['number of proteins'])\n",
    "#plt.yscale('log')\n",
    "\n",
    "# Customize the chart labels and title\n",
    "plt.xlabel('Number of Pathway Relations')\n",
    "plt.ylabel('Number of Proteins')\n",
    "plt.title('Protein Pathway')\n",
    "\n",
    "# Display the chart\n",
    "plt.show()\n"
   ]
  },
  {
   "cell_type": "code",
   "execution_count": null,
   "metadata": {},
   "outputs": [],
   "source": [
    "# Group the data by the number of molfunc relations and count the number of proteins\n",
    "grouped_df = protein_disease.groupby('number of disease relations').size().reset_index(name='number of proteins')\n",
    "grouped_df = grouped_df[grouped_df['number of disease relations']<=60]\n",
    "\n",
    "# Create the bar chart\n",
    "plt.bar(grouped_df['number of disease relations'], grouped_df['number of proteins'])\n",
    "#plt.yscale('log')\n",
    "\n",
    "# Customize the chart labels and title\n",
    "plt.xlabel('Number of Disease Relations')\n",
    "plt.ylabel('Number of Proteins')\n",
    "plt.title('Protein Disease')\n",
    "\n",
    "# Display the chart\n",
    "plt.show()"
   ]
  },
  {
   "cell_type": "markdown",
   "metadata": {},
   "source": [
    "## Drug Disease Exploration"
   ]
  },
  {
   "cell_type": "code",
   "execution_count": null,
   "metadata": {},
   "outputs": [],
   "source": [
    "unique_kg_df = kg_df.groupby(['relation', 'display_relation','x_type', 'y_type']).size().reset_index(name='count')\n",
    "unique_kg_df_drug_disease = unique_kg_df[((unique_kg_df['relation']=='contraindication')|(unique_kg_df['relation']=='indication'))&(unique_kg_df['x_type']=='drug')].reset_index(drop=True)\n",
    "unique_kg_df_drug_disease"
   ]
  },
  {
   "cell_type": "code",
   "execution_count": null,
   "metadata": {},
   "outputs": [],
   "source": [
    "drug_disease_count = kg_df[((kg_df['relation']=='contraindication')|(kg_df['relation']=='indication'))&(kg_df['x_type'] == 'disease')].groupby('x_name').size().reset_index(name='number of relations')\n",
    "grouped_drug_disease_count = drug_disease_count.groupby('number of relations').size().reset_index(name='number of diseases')"
   ]
  },
  {
   "cell_type": "code",
   "execution_count": null,
   "metadata": {},
   "outputs": [],
   "source": [
    "diseases_nonzero_drugdisease = grouped_drug_disease_count['number of diseases'].sum()\n",
    "total_diseases = nodes_df[nodes_df['node_type'] == 'disease'].groupby('node_name').size().reset_index(name='number of diseases').sum()\n",
    "diseases_nonzero_drugdisease"
   ]
  },
  {
   "cell_type": "code",
   "execution_count": null,
   "metadata": {},
   "outputs": [],
   "source": [
    "total_diseases"
   ]
  },
  {
   "cell_type": "code",
   "execution_count": null,
   "metadata": {},
   "outputs": [],
   "source": [
    "# Create the bar chart\n",
    "grouped_drug_disease_count = grouped_drug_disease_count[grouped_drug_disease_count['number of relations']<=100]\n",
    "plt.bar(grouped_drug_disease_count['number of relations'], grouped_drug_disease_count['number of diseases'])\n",
    "#plt.yscale('log')\n",
    "\n",
    "# Customize the chart labels and title\n",
    "plt.xlabel('Number of Drug-Disease Relations')\n",
    "plt.ylabel('Number of Diseases')\n",
    "plt.title('Drug Disease')\n",
    "\n",
    "# Display the chart\n",
    "plt.show()"
   ]
  },
  {
   "cell_type": "code",
   "execution_count": null,
   "metadata": {},
   "outputs": [],
   "source": [
    "grouped_drug_disease_count"
   ]
  },
  {
   "cell_type": "code",
   "execution_count": null,
   "metadata": {},
   "outputs": [],
   "source": [
    "unique_kg_df"
   ]
  },
  {
   "cell_type": "markdown",
   "metadata": {},
   "source": [
    "# Loading embeddings for proteins"
   ]
  },
  {
   "cell_type": "code",
   "execution_count": 1,
   "metadata": {},
   "outputs": [
    {
     "name": "stderr",
     "output_type": "stream",
     "text": [
      "/home/tysinger/.conda/envs/txgnn_env2/lib/python3.8/site-packages/tqdm/auto.py:21: TqdmWarning: IProgress not found. Please update jupyter and ipywidgets. See https://ipywidgets.readthedocs.io/en/stable/user_install.html\n",
      "  from .autonotebook import tqdm as notebook_tqdm\n"
     ]
    }
   ],
   "source": [
    "from txgnn.model import HeteroRGCN\n",
    "from IPython import get_ipython\n",
    "from importlib import reload\n",
    "\n",
    "# Import the desired libraries\n",
    "import txgnn\n",
    "\n",
    "# Reload the libraries\n",
    "reload(txgnn)\n",
    "\n",
    "from txgnn import TxData, TxGNN, TxEval\n",
    "import torch.nn as nn\n",
    "import torch\n",
    "import os\n",
    "import pandas as pd\n",
    "from tqdm.auto import tqdm"
   ]
  },
  {
   "cell_type": "code",
   "execution_count": 3,
   "metadata": {},
   "outputs": [
    {
     "name": "stdout",
     "output_type": "stream",
     "text": [
      "Found local copy...\n",
      "Found local copy...\n",
      "Found local copy...\n",
      "Found saved processed KG... Loading...\n",
      "Splits detected... Loading splits....\n",
      "Creating DGL graph....\n",
      "{'anatomy': 14032.0, 'biological_process': 28641.0, 'cellular_component': 4175.0, 'disease': 17079.0, 'drug': 7956.0, 'effect/phenotype': 15310.0, 'exposure': 817.0, 'gene/protein': 27609.0, 'molecular_function': 11168.0, 'pathway': 2515.0}\n",
      "Done!\n"
     ]
    }
   ],
   "source": [
    "TxData_inst = TxData(data_folder_path = '/om/user/tysinger/kg/')\n",
    "TxData_inst.prepare_split(split = 'random', seed = 42, no_kg = False)"
   ]
  },
  {
   "cell_type": "code",
   "execution_count": 5,
   "metadata": {},
   "outputs": [],
   "source": [
    "TxGNN_model = txgnn.TxGNN(data = TxData_inst, \n",
    "              weight_bias_track = False,\n",
    "              proj_name = 'TxGNN',\n",
    "              exp_name = 'TxGNN',\n",
    "              device = 'cpu'\n",
    "              )\n",
    "\n",
    "\n",
    "\n",
    "TxGNN_model.model_initialize(n_hid = 1280, \n",
    "                      n_inp = 1280, \n",
    "                      n_out = 1280, \n",
    "                      proto = False, #made this False\n",
    "                      proto_num = 3,\n",
    "                      attention = False,\n",
    "                      sim_measure = 'all_nodes_profile',\n",
    "                      bert_measure = 'disease_name',\n",
    "                      agg_measure = 'rarity',\n",
    "                      num_walks = 200,\n",
    "                      walk_mode = 'bit',\n",
    "                      path_length = 2,\n",
    "                      esm = False)"
   ]
  },
  {
   "cell_type": "code",
   "execution_count": 4,
   "metadata": {},
   "outputs": [],
   "source": [
    "def initialize_node_embedding(g, n_inp, df, df_nodes, esm=False):\n",
    "    # initialize embedding xavier uniform\n",
    "    for ntype in g.ntypes:\n",
    "        if not esm or ntype != 'gene/protein':\n",
    "            emb = nn.Parameter(torch.Tensor(g.number_of_nodes(ntype), n_inp), requires_grad = False)\n",
    "            nn.init.xavier_uniform_(emb)\n",
    "            g.nodes[ntype].data['inp'] = emb\n",
    "        elif ntype == 'gene/protein':\n",
    "            idx2id = dict(zip(df[df.x_type == 'gene/protein']['x_idx'],df[df.x_type == 'gene/protein']['x_id']))\n",
    "            idx2id.update(zip(df[df.y_type == 'gene/protein']['y_idx'],df[df.y_type == 'gene/protein']['y_id']))\n",
    "            id2name = dict(zip(df_nodes[df_nodes.node_type == 'gene/protein'].node_id,df_nodes[df_nodes.node_type == 'gene/protein'].node_name))\n",
    "            prot_embs = []\n",
    "            #get mapping from idx to node name\n",
    "            for i in tqdm(range(g.number_of_nodes(ntype))):\n",
    "                try:\n",
    "                    id = idx2id[i]\n",
    "                    name = id2name[str(int(float(id)))]\n",
    "                    emb_path = os.path.join('/om/user/tysinger/TxGNN/embeddings/esm_embeddings/', name+'.pt')\n",
    "                except Exception as e: \n",
    "                    try:\n",
    "                        id = idx2id[i]\n",
    "                        name = id2name[id]\n",
    "                        emb_path = os.path.join('/om/user/tysinger/TxGNN/embeddings/esm_embeddings/', name+'.pt')\n",
    "                    except:\n",
    "                        emb_path = 'None'\n",
    "\n",
    "\n",
    "                if os.path.exists(emb_path):\n",
    "                    esm_emb = torch.load(emb_path)\n",
    "                    prot_embs.append(list(esm_emb['mean_representations'].values())[0])\n",
    "                else:\n",
    "                    # Create xavier embedding for those without esm embedding\n",
    "                    xavier_emb = nn.init.xavier_uniform_(torch.Tensor(1, n_inp)).squeeze() #.tolist()[0]\n",
    "                    prot_embs.append(xavier_emb)\n",
    "            \n",
    "            # convert list to tensor\n",
    "            emb = nn.Parameter(torch.stack(prot_embs), requires_grad=False)\n",
    "            g.nodes[ntype].data['inp'] = emb\n",
    "    return g"
   ]
  },
  {
   "cell_type": "code",
   "execution_count": null,
   "metadata": {},
   "outputs": [],
   "source": [
    "len(nodes[nodes.node_type == 'gene/protein'])"
   ]
  },
  {
   "cell_type": "code",
   "execution_count": 5,
   "metadata": {},
   "outputs": [
    {
     "name": "stderr",
     "output_type": "stream",
     "text": [
      "100%|██████████| 27610/27610 [00:38<00:00, 721.48it/s]\n"
     ]
    },
    {
     "name": "stdout",
     "output_type": "stream",
     "text": [
      "ESM embeddings found:  20873\n",
      "ESM embeddings not found:  6737\n",
      "Name not found:  0\n"
     ]
    },
    {
     "data": {
      "text/plain": [
       "Graph(num_nodes={'anatomy': 14033, 'biological_process': 28642, 'cellular_component': 4176, 'disease': 17080, 'drug': 7957, 'effect/phenotype': 15311, 'exposure': 818, 'gene/protein': 27610, 'molecular_function': 11169, 'pathway': 2516},\n",
       "      num_edges={('anatomy', 'anatomy_anatomy', 'anatomy'): 23328, ('anatomy', 'rev_anatomy_protein_absent', 'gene/protein'): 16531, ('anatomy', 'rev_anatomy_protein_present', 'gene/protein'): 1262006, ('biological_process', 'bioprocess_bioprocess', 'biological_process'): 87924, ('biological_process', 'rev_bioprocess_protein', 'gene/protein'): 120369, ('biological_process', 'rev_exposure_bioprocess', 'exposure'): 1351, ('cellular_component', 'cellcomp_cellcomp', 'cellular_component'): 8056, ('cellular_component', 'rev_cellcomp_protein', 'gene/protein'): 69328, ('cellular_component', 'rev_exposure_cellcomp', 'exposure'): 9, ('disease', 'disease_disease', 'disease'): 53522, ('disease', 'disease_phenotype_negative', 'effect/phenotype'): 991, ('disease', 'disease_phenotype_positive', 'effect/phenotype'): 124951, ('disease', 'rev_contraindication', 'drug'): 25498, ('disease', 'rev_disease_protein', 'gene/protein'): 66841, ('disease', 'rev_exposure_disease', 'exposure'): 1915, ('disease', 'rev_indication', 'drug'): 7804, ('disease', 'rev_off-label use', 'drug'): 2135, ('drug', 'contraindication', 'disease'): 25498, ('drug', 'drug_drug', 'drug'): 2221622, ('drug', 'drug_effect', 'effect/phenotype'): 53852, ('drug', 'drug_protein', 'gene/protein'): 21324, ('drug', 'indication', 'disease'): 7804, ('drug', 'off-label use', 'disease'): 2135, ('effect/phenotype', 'phenotype_phenotype', 'effect/phenotype'): 31148, ('effect/phenotype', 'rev_disease_phenotype_negative', 'disease'): 991, ('effect/phenotype', 'rev_disease_phenotype_positive', 'disease'): 124951, ('effect/phenotype', 'rev_drug_effect', 'drug'): 53852, ('effect/phenotype', 'rev_phenotype_protein', 'gene/protein'): 2768, ('exposure', 'exposure_bioprocess', 'biological_process'): 1351, ('exposure', 'exposure_cellcomp', 'cellular_component'): 9, ('exposure', 'exposure_disease', 'disease'): 1915, ('exposure', 'exposure_exposure', 'exposure'): 3440, ('exposure', 'exposure_molfunc', 'molecular_function'): 38, ('exposure', 'exposure_protein', 'gene/protein'): 1007, ('gene/protein', 'anatomy_protein_absent', 'anatomy'): 16531, ('gene/protein', 'anatomy_protein_present', 'anatomy'): 1262006, ('gene/protein', 'bioprocess_protein', 'biological_process'): 120369, ('gene/protein', 'cellcomp_protein', 'cellular_component'): 69328, ('gene/protein', 'disease_protein', 'disease'): 66841, ('gene/protein', 'molfunc_protein', 'molecular_function'): 57797, ('gene/protein', 'pathway_protein', 'pathway'): 35450, ('gene/protein', 'phenotype_protein', 'effect/phenotype'): 2768, ('gene/protein', 'protein_protein', 'gene/protein'): 533786, ('gene/protein', 'rev_drug_protein', 'drug'): 21324, ('gene/protein', 'rev_exposure_protein', 'exposure'): 1007, ('molecular_function', 'molfunc_molfunc', 'molecular_function'): 22566, ('molecular_function', 'rev_exposure_molfunc', 'exposure'): 38, ('molecular_function', 'rev_molfunc_protein', 'gene/protein'): 57797, ('pathway', 'pathway_pathway', 'pathway'): 4214, ('pathway', 'rev_pathway_protein', 'gene/protein'): 35450},\n",
       "      metagraph=[('anatomy', 'anatomy', 'anatomy_anatomy'), ('anatomy', 'gene/protein', 'rev_anatomy_protein_absent'), ('anatomy', 'gene/protein', 'rev_anatomy_protein_present'), ('gene/protein', 'anatomy', 'anatomy_protein_absent'), ('gene/protein', 'anatomy', 'anatomy_protein_present'), ('gene/protein', 'biological_process', 'bioprocess_protein'), ('gene/protein', 'cellular_component', 'cellcomp_protein'), ('gene/protein', 'disease', 'disease_protein'), ('gene/protein', 'molecular_function', 'molfunc_protein'), ('gene/protein', 'pathway', 'pathway_protein'), ('gene/protein', 'effect/phenotype', 'phenotype_protein'), ('gene/protein', 'gene/protein', 'protein_protein'), ('gene/protein', 'drug', 'rev_drug_protein'), ('gene/protein', 'exposure', 'rev_exposure_protein'), ('biological_process', 'biological_process', 'bioprocess_bioprocess'), ('biological_process', 'gene/protein', 'rev_bioprocess_protein'), ('biological_process', 'exposure', 'rev_exposure_bioprocess'), ('exposure', 'biological_process', 'exposure_bioprocess'), ('exposure', 'cellular_component', 'exposure_cellcomp'), ('exposure', 'disease', 'exposure_disease'), ('exposure', 'exposure', 'exposure_exposure'), ('exposure', 'molecular_function', 'exposure_molfunc'), ('exposure', 'gene/protein', 'exposure_protein'), ('cellular_component', 'cellular_component', 'cellcomp_cellcomp'), ('cellular_component', 'gene/protein', 'rev_cellcomp_protein'), ('cellular_component', 'exposure', 'rev_exposure_cellcomp'), ('disease', 'disease', 'disease_disease'), ('disease', 'effect/phenotype', 'disease_phenotype_negative'), ('disease', 'effect/phenotype', 'disease_phenotype_positive'), ('disease', 'drug', 'rev_contraindication'), ('disease', 'drug', 'rev_indication'), ('disease', 'drug', 'rev_off-label use'), ('disease', 'gene/protein', 'rev_disease_protein'), ('disease', 'exposure', 'rev_exposure_disease'), ('effect/phenotype', 'effect/phenotype', 'phenotype_phenotype'), ('effect/phenotype', 'disease', 'rev_disease_phenotype_negative'), ('effect/phenotype', 'disease', 'rev_disease_phenotype_positive'), ('effect/phenotype', 'drug', 'rev_drug_effect'), ('effect/phenotype', 'gene/protein', 'rev_phenotype_protein'), ('drug', 'disease', 'contraindication'), ('drug', 'disease', 'indication'), ('drug', 'disease', 'off-label use'), ('drug', 'drug', 'drug_drug'), ('drug', 'effect/phenotype', 'drug_effect'), ('drug', 'gene/protein', 'drug_protein'), ('molecular_function', 'molecular_function', 'molfunc_molfunc'), ('molecular_function', 'exposure', 'rev_exposure_molfunc'), ('molecular_function', 'gene/protein', 'rev_molfunc_protein'), ('pathway', 'pathway', 'pathway_pathway'), ('pathway', 'gene/protein', 'rev_pathway_protein')])"
      ]
     },
     "execution_count": 5,
     "metadata": {},
     "output_type": "execute_result"
    }
   ],
   "source": [
    "initialize_node_embedding(TxData_inst.G, 1280, TxData_inst.df, nodes, esm=True)"
   ]
  },
  {
   "cell_type": "code",
   "execution_count": 3,
   "metadata": {},
   "outputs": [],
   "source": [
    "kg_path = os.path.join(TxData_inst.data_folder, TxData_inst.split + '_kg', 'kg.csv')\n",
    "kg_path = os.path.join(TxData_inst.data_folder, 'kg.csv')\n",
    "nodes = pd.read_csv(os.path.join(TxData_inst.data_folder, 'nodes.csv'))\n",
    "#df = pd.read_csv(kg_path)\n",
    "#split_data_path = os.path.join(TxData_inst.data_folder, TxData_inst.split + '_' + str(42))\n",
    "#df_train = pd.read_csv(os.path.join(split_data_path, 'train.csv'))"
   ]
  },
  {
   "cell_type": "code",
   "execution_count": 6,
   "metadata": {},
   "outputs": [],
   "source": [
    "#id2name = dict(zip(nodes[nodes.node_type == 'gene/protein'].node_id,nodes[nodes.node_type == 'gene/protein'].node_name))\n",
    "idx2id = dict(zip(TxData_inst.df_train[TxData_inst.df_train.x_type == 'gene/protein']['x_idx'], TxData_inst.df_train[TxData_inst.df_train.x_type == 'gene/protein']['x_id']))\n",
    "idx2id.update(dict(zip(TxData_inst.df_train[TxData_inst.df_train.x_type == 'gene/protein']['y_idx'], TxData_inst.df_train[TxData_inst.df_train.x_type == 'gene/protein']['y_id'])))"
   ]
  },
  {
   "cell_type": "code",
   "execution_count": null,
   "metadata": {},
   "outputs": [],
   "source": [
    "id = idx2id[8]\n",
    "id"
   ]
  },
  {
   "cell_type": "code",
   "execution_count": null,
   "metadata": {},
   "outputs": [],
   "source": [
    "id_keys = list(int(k) for k in id2name.keys())\n",
    "id_keys.sort()\n",
    "print(id in id_keys)"
   ]
  },
  {
   "cell_type": "code",
   "execution_count": null,
   "metadata": {},
   "outputs": [],
   "source": [
    "for i in range(100):\n",
    "    id = idx2id[i]\n",
    "    try:\n",
    "        name = id2name[str(int(id))]\n",
    "        print(name)\n",
    "        emb_path = os.path.join('/Users/emmatysinger/Develop/meng/TxGNN/embeddings/embeddings1/', name+'.pt')\n",
    "        print(emb_path)\n",
    "    except:\n",
    "        print(id)"
   ]
  },
  {
   "cell_type": "code",
   "execution_count": null,
   "metadata": {},
   "outputs": [],
   "source": [
    "nodes[nodes.node_type == 'gene/protein']"
   ]
  },
  {
   "cell_type": "code",
   "execution_count": 4,
   "metadata": {},
   "outputs": [],
   "source": [
    "def create_dgl_graph(df_train, df):\n",
    "    unique_graph = df_train[['x_type', 'relation', 'y_type']].drop_duplicates()\n",
    "    DGL_input = {}\n",
    "    for i in unique_graph.values:\n",
    "        o = df_train[df_train.relation == i[1]][['x_idx', 'y_idx']].values.T\n",
    "        DGL_input[tuple(i)] = (o[0].astype(int), o[1].astype(int))\n",
    "\n",
    "    temp = dict(df.groupby('x_type')['x_idx'].max())\n",
    "    temp2 = dict(df.groupby('y_type')['y_idx'].max())\n",
    "    temp['effect/phenotype'] = 0.0\n",
    "\n",
    "    \n",
    "    output = {}\n",
    "\n",
    "    for d in (temp, temp2):\n",
    "        for k, v in d.items():\n",
    "            output.setdefault(k, float('-inf'))\n",
    "            output[k] = max(output[k], v)\n",
    "    \n",
    "    print(output)\n",
    "\n",
    "    g = dgl.heterograph(DGL_input, num_nodes_dict={i: int(output[i])+1 for i in output.keys()})\n",
    "    \n",
    "    # get node, edge dictionary mapping relation sent to index\n",
    "    node_dict = {}\n",
    "    edge_dict = {}\n",
    "    for ntype in g.ntypes:\n",
    "        node_dict[ntype] = len(node_dict)\n",
    "    for etype in g.etypes:\n",
    "        edge_dict[etype] = len(edge_dict)\n",
    "        g.edges[etype].data['id'] = torch.ones(g.number_of_edges(etype), dtype=torch.long) * edge_dict[etype] \n",
    "\n",
    "    return g"
   ]
  },
  {
   "cell_type": "code",
   "execution_count": 5,
   "metadata": {},
   "outputs": [],
   "source": [
    "create_dgl_graph(df_train, pd.read_csv(kg_path))"
   ]
  }
 ],
 "metadata": {
  "kernelspec": {
   "display_name": "txgnn_env",
   "language": "python",
   "name": "python3"
  },
  "language_info": {
   "codemirror_mode": {
    "name": "ipython",
    "version": 3
   },
   "file_extension": ".py",
   "mimetype": "text/x-python",
   "name": "python",
   "nbconvert_exporter": "python",
   "pygments_lexer": "ipython3",
   "version": "3.8.18"
  },
  "orig_nbformat": 4
 },
 "nbformat": 4,
 "nbformat_minor": 2
}
