{
 "cells": [
  {
   "cell_type": "code",
   "execution_count": 3,
   "metadata": {},
   "outputs": [],
   "source": [
    "import datetime\n",
    "from txgnn import TxData, TxGNN, TxEval\n",
    "import builtins\n",
    "import time\n",
    "import pandas as pd\n",
    "import argparse\n",
    "import wandb"
   ]
  },
  {
   "cell_type": "code",
   "execution_count": 2,
   "metadata": {},
   "outputs": [],
   "source": [
    "from importlib import reload\n",
    "import txgnn\n",
    "reload(txgnn)\n",
    "from txgnn import TxData, TxGNN, TxEval"
   ]
  },
  {
   "cell_type": "code",
   "execution_count": 3,
   "metadata": {},
   "outputs": [
    {
     "name": "stdout",
     "output_type": "stream",
     "text": [
      "[2024-04-25 19:06:07] Loading data ...\n",
      "Found local copy...\n",
      "Found local copy...\n",
      "Found local copy...\n",
      "Found saved processed KG... Loading...\n",
      "Splits detected... Loading splits....\n",
      "Creating DGL graph....\n",
      "Done!\n",
      "[2024-04-25 19:06:30] Loaded data!\n",
      "[2024-04-25 19:06:30] Initializing model ...\n"
     ]
    }
   ],
   "source": [
    "# LOAD DATA\n",
    "\n",
    "def get_timestamp():\n",
    "    return datetime.datetime.now().strftime(\"%Y-%m-%d %H:%M:%S\")\n",
    "\n",
    "data_path = '/om/user/tysinger/kg/'\n",
    "\n",
    "print(f'[{get_timestamp()}] Loading data ...')\n",
    "TxData_inst = TxData(data_folder_path = data_path)\n",
    "TxData_inst.prepare_split(split = 'random', seed = 42, no_kg = False)\n",
    "print(f'[{get_timestamp()}] Loaded data!')\n",
    "print(f'[{get_timestamp()}] Initializing model ...')"
   ]
  },
  {
   "cell_type": "code",
   "execution_count": 4,
   "metadata": {},
   "outputs": [
    {
     "name": "stderr",
     "output_type": "stream",
     "text": [
      "Failed to detect the name of this notebook, you can set it manually with the WANDB_NOTEBOOK_NAME environment variable to enable code saving.\n",
      "\u001b[34m\u001b[1mwandb\u001b[0m: Currently logged in as: \u001b[33meptysinger\u001b[0m. Use \u001b[1m`wandb login --relogin`\u001b[0m to force relogin\n"
     ]
    },
    {
     "data": {
      "text/html": [
       "wandb version 0.16.6 is available!  To upgrade, please run:\n",
       " $ pip install wandb --upgrade"
      ],
      "text/plain": [
       "<IPython.core.display.HTML object>"
      ]
     },
     "metadata": {},
     "output_type": "display_data"
    },
    {
     "data": {
      "text/html": [
       "Tracking run with wandb version 0.16.0"
      ],
      "text/plain": [
       "<IPython.core.display.HTML object>"
      ]
     },
     "metadata": {},
     "output_type": "display_data"
    },
    {
     "data": {
      "text/html": [
       "Run data is saved locally in <code>/weka/scratch/weka/kellislab/tysinger/TxGNN/wandb/run-20240425_190632-3udhikje</code>"
      ],
      "text/plain": [
       "<IPython.core.display.HTML object>"
      ]
     },
     "metadata": {},
     "output_type": "display_data"
    },
    {
     "data": {
      "text/html": [
       "Syncing run <strong><a href='https://wandb.ai/eptysinger/MEng/runs/3udhikje' target=\"_blank\">Finetune ProtGNN No ESM</a></strong> to <a href='https://wandb.ai/eptysinger/MEng' target=\"_blank\">Weights & Biases</a> (<a href='https://wandb.me/run' target=\"_blank\">docs</a>)<br/>"
      ],
      "text/plain": [
       "<IPython.core.display.HTML object>"
      ]
     },
     "metadata": {},
     "output_type": "display_data"
    },
    {
     "data": {
      "text/html": [
       " View project at <a href='https://wandb.ai/eptysinger/MEng' target=\"_blank\">https://wandb.ai/eptysinger/MEng</a>"
      ],
      "text/plain": [
       "<IPython.core.display.HTML object>"
      ]
     },
     "metadata": {},
     "output_type": "display_data"
    },
    {
     "data": {
      "text/html": [
       " View run at <a href='https://wandb.ai/eptysinger/MEng/runs/3udhikje' target=\"_blank\">https://wandb.ai/eptysinger/MEng/runs/3udhikje</a>"
      ],
      "text/plain": [
       "<IPython.core.display.HTML object>"
      ]
     },
     "metadata": {},
     "output_type": "display_data"
    },
    {
     "name": "stdout",
     "output_type": "stream",
     "text": [
      "{'n_hid': 512, 'n_inp': 512, 'n_out': 1024, 'proto': False, 'proto_num': 3, 'attention': False, 'sim_measure': 'all_nodes_profile', 'bert_measure': 'disease_name', 'agg_measure': 'rarity', 'num_walks': 200, 'walk_mode': 'bit', 'path_length': 2, 'esm': False}\n"
     ]
    }
   ],
   "source": [
    "load_name = 'protgnn_pretrain_noesm'\n",
    "esm = False\n",
    "TxGNN_model = TxGNN(data = TxData_inst, \n",
    "                        weight_bias_track = True,\n",
    "                        proj_name = 'MEng',\n",
    "                        exp_name = f'Finetune ProtGNN No ESM',\n",
    "                        device = 'cuda:0'\n",
    "                    )\n",
    "TxGNN_model.load_pretrained(f'/om/user/tysinger/models/{load_name}', esm=esm)\n",
    "etype = 'MF/BP'"
   ]
  },
  {
   "cell_type": "code",
   "execution_count": 5,
   "metadata": {},
   "outputs": [
    {
     "name": "stdout",
     "output_type": "stream",
     "text": [
      "Epoch: 0 LR: 0.00100 Loss 0.7230, Train Micro AUROC 0.6010 Train Micro AUPRC 0.5691 Train Macro AUROC 0.5958 Train Macro AUPRC 0.5761\n",
      "----- AUROC Performance in Each Relation -----\n",
      "('gene/protein', 'molfunc_protein', 'molecular_function'): 0.6724953072640718\n",
      "('molecular_function', 'rev_molfunc_protein', 'gene/protein'): 0.4899269720383377\n",
      "('gene/protein', 'bioprocess_protein', 'biological_process'): 0.7069708776191928\n",
      "('biological_process', 'rev_bioprocess_protein', 'gene/protein'): 0.513614890243263\n",
      "----- AUPRC Performance in Each Relation -----\n",
      "('gene/protein', 'molfunc_protein', 'molecular_function'): 0.6185947862185464\n",
      "('molecular_function', 'rev_molfunc_protein', 'gene/protein'): 0.49329407903774913\n",
      "('gene/protein', 'bioprocess_protein', 'biological_process'): 0.6752081234821062\n",
      "('biological_process', 'rev_bioprocess_protein', 'gene/protein'): 0.5173860253750316\n",
      "----------------------------------------------\n",
      "Validation.....\n",
      "Epoch: 0 LR: 0.00100 Validation Loss 0.7172,  Validation Micro AUROC 0.6517 Validation Micro AUPRC 0.6322 Validation Macro AUROC 0.6527 Validation Macro AUPRC 0.6400 (Best Macro AUROC 0.6527)\n",
      "----- AUROC Performance in Each Relation -----\n",
      "('gene/protein', 'molfunc_protein', 'molecular_function'): 0.7753965429547566\n",
      "('molecular_function', 'rev_molfunc_protein', 'gene/protein'): 0.5518099087875042\n",
      "('gene/protein', 'bioprocess_protein', 'biological_process'): 0.7056788234019704\n",
      "('biological_process', 'rev_bioprocess_protein', 'gene/protein'): 0.5778978383456969\n",
      "----- AUPRC Performance in Each Relation -----\n",
      "('gene/protein', 'molfunc_protein', 'molecular_function'): 0.7389211309248158\n",
      "('molecular_function', 'rev_molfunc_protein', 'gene/protein'): 0.542688455325372\n",
      "('gene/protein', 'bioprocess_protein', 'biological_process'): 0.7086058287039857\n",
      "('biological_process', 'rev_bioprocess_protein', 'gene/protein'): 0.5699006072039096\n",
      "----------------------------------------------\n",
      "Epoch: 5 LR: 0.00100 Loss 0.6803, Train Micro AUROC 0.8011 Train Micro AUPRC 0.8019 Train Macro AUROC 0.8039 Train Macro AUPRC 0.8068\n",
      "----- AUROC Performance in Each Relation -----\n",
      "('gene/protein', 'molfunc_protein', 'molecular_function'): 0.9418845890849408\n",
      "('molecular_function', 'rev_molfunc_protein', 'gene/protein'): 0.665045028983922\n",
      "('gene/protein', 'bioprocess_protein', 'biological_process'): 0.8595079366092864\n",
      "('biological_process', 'rev_bioprocess_protein', 'gene/protein'): 0.749060323606851\n",
      "----- AUPRC Performance in Each Relation -----\n",
      "('gene/protein', 'molfunc_protein', 'molecular_function'): 0.9468447407726431\n",
      "('molecular_function', 'rev_molfunc_protein', 'gene/protein'): 0.6828216053866378\n",
      "('gene/protein', 'bioprocess_protein', 'biological_process'): 0.859416589760198\n",
      "('biological_process', 'rev_bioprocess_protein', 'gene/protein'): 0.7382597334134171\n",
      "----------------------------------------------\n",
      "Epoch: 10 LR: 0.00100 Loss 0.6492, Train Micro AUROC 0.8436 Train Micro AUPRC 0.8498 Train Macro AUROC 0.8355 Train Macro AUPRC 0.8392\n",
      "----- AUROC Performance in Each Relation -----\n",
      "('gene/protein', 'molfunc_protein', 'molecular_function'): 0.9410479430194825\n",
      "('molecular_function', 'rev_molfunc_protein', 'gene/protein'): 0.7154121529303789\n",
      "('gene/protein', 'bioprocess_protein', 'biological_process'): 0.8828703060550018\n",
      "('biological_process', 'rev_bioprocess_protein', 'gene/protein'): 0.8026324219775319\n",
      "----- AUPRC Performance in Each Relation -----\n",
      "('gene/protein', 'molfunc_protein', 'molecular_function'): 0.949323787369307\n",
      "('molecular_function', 'rev_molfunc_protein', 'gene/protein'): 0.7341209778576239\n",
      "('gene/protein', 'bioprocess_protein', 'biological_process'): 0.8845593522225498\n",
      "('biological_process', 'rev_bioprocess_protein', 'gene/protein'): 0.7887503680050538\n",
      "----------------------------------------------\n",
      "Validation.....\n",
      "Epoch: 10 LR: 0.00100 Validation Loss 0.6606,  Validation Micro AUROC 0.7453 Validation Micro AUPRC 0.7577 Validation Macro AUROC 0.7658 Validation Macro AUPRC 0.7698 (Best Macro AUROC 0.7658)\n",
      "----- AUROC Performance in Each Relation -----\n",
      "('gene/protein', 'molfunc_protein', 'molecular_function'): 0.8817646864608871\n",
      "('molecular_function', 'rev_molfunc_protein', 'gene/protein'): 0.6680164095044726\n",
      "('gene/protein', 'bioprocess_protein', 'biological_process'): 0.7744483190154253\n",
      "('biological_process', 'rev_bioprocess_protein', 'gene/protein'): 0.7390768832947243\n",
      "----- AUPRC Performance in Each Relation -----\n",
      "('gene/protein', 'molfunc_protein', 'molecular_function'): 0.9010411871683448\n",
      "('molecular_function', 'rev_molfunc_protein', 'gene/protein'): 0.6764284066781266\n",
      "('gene/protein', 'bioprocess_protein', 'biological_process'): 0.7838368788422276\n",
      "('biological_process', 'rev_bioprocess_protein', 'gene/protein'): 0.7180306964244395\n",
      "----------------------------------------------\n",
      "Epoch: 15 LR: 0.00100 Loss 0.6234, Train Micro AUROC 0.8643 Train Micro AUPRC 0.8693 Train Macro AUROC 0.8736 Train Macro AUPRC 0.8798\n",
      "----- AUROC Performance in Each Relation -----\n",
      "('gene/protein', 'molfunc_protein', 'molecular_function'): 0.9419783036894658\n",
      "('molecular_function', 'rev_molfunc_protein', 'gene/protein'): 0.7765041178684222\n",
      "('gene/protein', 'bioprocess_protein', 'biological_process'): 0.8989120155654564\n",
      "('biological_process', 'rev_bioprocess_protein', 'gene/protein'): 0.8769588310990601\n",
      "----- AUPRC Performance in Each Relation -----\n",
      "('gene/protein', 'molfunc_protein', 'molecular_function'): 0.9488581154613583\n",
      "('molecular_function', 'rev_molfunc_protein', 'gene/protein'): 0.8010383548979698\n",
      "('gene/protein', 'bioprocess_protein', 'biological_process'): 0.8958807471698891\n",
      "('biological_process', 'rev_bioprocess_protein', 'gene/protein'): 0.8733437549661357\n",
      "----------------------------------------------\n",
      "Epoch: 20 LR: 0.00100 Loss 0.6048, Train Micro AUROC 0.8944 Train Micro AUPRC 0.8970 Train Macro AUROC 0.8954 Train Macro AUPRC 0.8970\n",
      "----- AUROC Performance in Each Relation -----\n",
      "('gene/protein', 'molfunc_protein', 'molecular_function'): 0.9505781453004594\n",
      "('molecular_function', 'rev_molfunc_protein', 'gene/protein'): 0.8212905778728676\n",
      "('gene/protein', 'bioprocess_protein', 'biological_process'): 0.917505914147246\n",
      "('biological_process', 'rev_bioprocess_protein', 'gene/protein'): 0.8923585871585867\n",
      "----- AUPRC Performance in Each Relation -----\n",
      "('gene/protein', 'molfunc_protein', 'molecular_function'): 0.9564631898812824\n",
      "('molecular_function', 'rev_molfunc_protein', 'gene/protein'): 0.8342438193025882\n",
      "('gene/protein', 'bioprocess_protein', 'biological_process'): 0.9134180570504928\n",
      "('biological_process', 'rev_bioprocess_protein', 'gene/protein'): 0.8837650165131979\n",
      "----------------------------------------------\n",
      "Validation.....\n",
      "Epoch: 20 LR: 0.00100 Validation Loss 0.6326,  Validation Micro AUROC 0.8154 Validation Micro AUPRC 0.8248 Validation Macro AUROC 0.8152 Validation Macro AUPRC 0.8213 (Best Macro AUROC 0.8152)\n",
      "----- AUROC Performance in Each Relation -----\n",
      "('gene/protein', 'molfunc_protein', 'molecular_function'): 0.8999920634279224\n",
      "('molecular_function', 'rev_molfunc_protein', 'gene/protein'): 0.7435856884083027\n",
      "('gene/protein', 'bioprocess_protein', 'biological_process'): 0.8115641148498427\n",
      "('biological_process', 'rev_bioprocess_protein', 'gene/protein'): 0.8054839159650289\n",
      "----- AUPRC Performance in Each Relation -----\n",
      "('gene/protein', 'molfunc_protein', 'molecular_function'): 0.9155465898505883\n",
      "('molecular_function', 'rev_molfunc_protein', 'gene/protein'): 0.7542973647767482\n",
      "('gene/protein', 'bioprocess_protein', 'biological_process'): 0.8183900110146705\n",
      "('biological_process', 'rev_bioprocess_protein', 'gene/protein'): 0.7967813942911505\n",
      "----------------------------------------------\n",
      "Epoch: 25 LR: 0.00100 Loss 0.5911, Train Micro AUROC 0.9140 Train Micro AUPRC 0.9121 Train Macro AUROC 0.9143 Train Macro AUPRC 0.9128\n",
      "----- AUROC Performance in Each Relation -----\n",
      "('gene/protein', 'molfunc_protein', 'molecular_function'): 0.9591400690076961\n",
      "('molecular_function', 'rev_molfunc_protein', 'gene/protein'): 0.8587039881630845\n",
      "('gene/protein', 'bioprocess_protein', 'biological_process'): 0.9321547299993793\n",
      "('biological_process', 'rev_bioprocess_protein', 'gene/protein'): 0.9070407256433873\n",
      "----- AUPRC Performance in Each Relation -----\n",
      "('gene/protein', 'molfunc_protein', 'molecular_function'): 0.962584236280505\n",
      "('molecular_function', 'rev_molfunc_protein', 'gene/protein'): 0.863642405230916\n",
      "('gene/protein', 'bioprocess_protein', 'biological_process'): 0.9253193246179248\n",
      "('biological_process', 'rev_bioprocess_protein', 'gene/protein'): 0.899842031110553\n",
      "----------------------------------------------\n",
      "Epoch: 30 LR: 0.00100 Loss 0.5806, Train Micro AUROC 0.9317 Train Micro AUPRC 0.9287 Train Macro AUROC 0.9301 Train Macro AUPRC 0.9266\n",
      "----- AUROC Performance in Each Relation -----\n",
      "('gene/protein', 'molfunc_protein', 'molecular_function'): 0.9677032384890564\n",
      "('molecular_function', 'rev_molfunc_protein', 'gene/protein'): 0.8870733486349681\n",
      "('gene/protein', 'bioprocess_protein', 'biological_process'): 0.9452601284348239\n",
      "('biological_process', 'rev_bioprocess_protein', 'gene/protein'): 0.9205392894083204\n",
      "----- AUPRC Performance in Each Relation -----\n",
      "('gene/protein', 'molfunc_protein', 'molecular_function'): 0.9690732264792608\n",
      "('molecular_function', 'rev_molfunc_protein', 'gene/protein'): 0.8845328682667524\n",
      "('gene/protein', 'bioprocess_protein', 'biological_process'): 0.9395460311770489\n",
      "('biological_process', 'rev_bioprocess_protein', 'gene/protein'): 0.9131660136629033\n",
      "----------------------------------------------\n",
      "Validation.....\n",
      "Epoch: 30 LR: 0.00100 Validation Loss 0.6150,  Validation Micro AUROC 0.8563 Validation Micro AUPRC 0.8605 Validation Macro AUROC 0.8576 Validation Macro AUPRC 0.8583 (Best Macro AUROC 0.8576)\n",
      "----- AUROC Performance in Each Relation -----\n",
      "('gene/protein', 'molfunc_protein', 'molecular_function'): 0.9226313809595812\n",
      "('molecular_function', 'rev_molfunc_protein', 'gene/protein'): 0.8097141427440964\n",
      "('gene/protein', 'bioprocess_protein', 'biological_process'): 0.8524349358038388\n",
      "('biological_process', 'rev_bioprocess_protein', 'gene/protein'): 0.8457050076993622\n",
      "----- AUPRC Performance in Each Relation -----\n",
      "('gene/protein', 'molfunc_protein', 'molecular_function'): 0.9314765784072466\n",
      "('molecular_function', 'rev_molfunc_protein', 'gene/protein'): 0.8059127093699037\n",
      "('gene/protein', 'bioprocess_protein', 'biological_process'): 0.8576399157582429\n",
      "('biological_process', 'rev_bioprocess_protein', 'gene/protein'): 0.8381522011696699\n",
      "----------------------------------------------\n",
      "Epoch: 35 LR: 0.00100 Loss 0.5730, Train Micro AUROC 0.9420 Train Micro AUPRC 0.9382 Train Macro AUROC 0.9394 Train Macro AUPRC 0.9354\n",
      "----- AUROC Performance in Each Relation -----\n",
      "('gene/protein', 'molfunc_protein', 'molecular_function'): 0.9759565374108203\n",
      "('molecular_function', 'rev_molfunc_protein', 'gene/protein'): 0.8977990249822417\n",
      "('gene/protein', 'bioprocess_protein', 'biological_process'): 0.9523331806861265\n",
      "('biological_process', 'rev_bioprocess_protein', 'gene/protein'): 0.9316405878076168\n",
      "----- AUPRC Performance in Each Relation -----\n",
      "('gene/protein', 'molfunc_protein', 'molecular_function'): 0.9755700463341292\n",
      "('molecular_function', 'rev_molfunc_protein', 'gene/protein'): 0.8951143476429975\n",
      "('gene/protein', 'bioprocess_protein', 'biological_process'): 0.9458025355783162\n",
      "('biological_process', 'rev_bioprocess_protein', 'gene/protein'): 0.9249853733131017\n",
      "----------------------------------------------\n",
      "Epoch: 40 LR: 0.00100 Loss 0.5675, Train Micro AUROC 0.9500 Train Micro AUPRC 0.9461 Train Macro AUROC 0.9470 Train Macro AUPRC 0.9428\n",
      "----- AUROC Performance in Each Relation -----\n",
      "('gene/protein', 'molfunc_protein', 'molecular_function'): 0.9826464787164307\n",
      "('molecular_function', 'rev_molfunc_protein', 'gene/protein'): 0.9085918652139969\n",
      "('gene/protein', 'bioprocess_protein', 'biological_process'): 0.9580774358333927\n",
      "('biological_process', 'rev_bioprocess_protein', 'gene/protein'): 0.9386917941663364\n",
      "----- AUPRC Performance in Each Relation -----\n",
      "('gene/protein', 'molfunc_protein', 'molecular_function'): 0.981350028107733\n",
      "('molecular_function', 'rev_molfunc_protein', 'gene/protein'): 0.905527043333489\n",
      "('gene/protein', 'bioprocess_protein', 'biological_process'): 0.9523129636373918\n",
      "('biological_process', 'rev_bioprocess_protein', 'gene/protein'): 0.9320199281783146\n",
      "----------------------------------------------\n",
      "Validation.....\n",
      "Epoch: 40 LR: 0.00100 Validation Loss 0.6035,  Validation Micro AUROC 0.8769 Validation Micro AUPRC 0.8790 Validation Macro AUROC 0.8786 Validation Macro AUPRC 0.8776 (Best Macro AUROC 0.8786)\n",
      "----- AUROC Performance in Each Relation -----\n",
      "('gene/protein', 'molfunc_protein', 'molecular_function'): 0.9396864744545566\n",
      "('molecular_function', 'rev_molfunc_protein', 'gene/protein'): 0.8342217962265246\n",
      "('gene/protein', 'bioprocess_protein', 'biological_process'): 0.8742268308014095\n",
      "('biological_process', 'rev_bioprocess_protein', 'gene/protein'): 0.8663020003867672\n",
      "----- AUPRC Performance in Each Relation -----\n",
      "('gene/protein', 'molfunc_protein', 'molecular_function'): 0.9437560740904688\n",
      "('molecular_function', 'rev_molfunc_protein', 'gene/protein'): 0.8290909456475256\n",
      "('gene/protein', 'bioprocess_protein', 'biological_process'): 0.8785527396332354\n",
      "('biological_process', 'rev_bioprocess_protein', 'gene/protein'): 0.8589766953839958\n",
      "----------------------------------------------\n",
      "Epoch: 45 LR: 0.00100 Loss 0.5635, Train Micro AUROC 0.9556 Train Micro AUPRC 0.9507 Train Macro AUROC 0.9529 Train Macro AUPRC 0.9475\n",
      "----- AUROC Performance in Each Relation -----\n",
      "('gene/protein', 'molfunc_protein', 'molecular_function'): 0.9863317244959561\n",
      "('molecular_function', 'rev_molfunc_protein', 'gene/protein'): 0.9199522741792828\n",
      "('gene/protein', 'bioprocess_protein', 'biological_process'): 0.9617056637578281\n",
      "('biological_process', 'rev_bioprocess_protein', 'gene/protein'): 0.9435732484886636\n",
      "----- AUPRC Performance in Each Relation -----\n",
      "('gene/protein', 'molfunc_protein', 'molecular_function'): 0.984419173894957\n",
      "('molecular_function', 'rev_molfunc_protein', 'gene/protein'): 0.9137930241674833\n",
      "('gene/protein', 'bioprocess_protein', 'biological_process'): 0.955161222128408\n",
      "('biological_process', 'rev_bioprocess_protein', 'gene/protein'): 0.9366875305289499\n",
      "----------------------------------------------\n",
      "Epoch: 50 LR: 0.00100 Loss 0.5601, Train Micro AUROC 0.9594 Train Micro AUPRC 0.9544 Train Macro AUROC 0.9567 Train Macro AUPRC 0.9512\n",
      "----- AUROC Performance in Each Relation -----\n",
      "('gene/protein', 'molfunc_protein', 'molecular_function'): 0.988542203020536\n",
      "('molecular_function', 'rev_molfunc_protein', 'gene/protein'): 0.9255757611390494\n",
      "('gene/protein', 'bioprocess_protein', 'biological_process'): 0.9649359930076042\n",
      "('biological_process', 'rev_bioprocess_protein', 'gene/protein'): 0.9479140705889498\n",
      "----- AUPRC Performance in Each Relation -----\n",
      "('gene/protein', 'molfunc_protein', 'molecular_function'): 0.9867240374137828\n",
      "('molecular_function', 'rev_molfunc_protein', 'gene/protein'): 0.9178607047302834\n",
      "('gene/protein', 'bioprocess_protein', 'biological_process'): 0.9590556785724077\n",
      "('biological_process', 'rev_bioprocess_protein', 'gene/protein'): 0.9410278041407621\n",
      "----------------------------------------------\n",
      "Validation.....\n",
      "Epoch: 50 LR: 0.00100 Validation Loss 0.5987,  Validation Micro AUROC 0.8862 Validation Micro AUPRC 0.8874 Validation Macro AUROC 0.8866 Validation Macro AUPRC 0.8846 (Best Macro AUROC 0.8866)\n",
      "----- AUROC Performance in Each Relation -----\n",
      "('gene/protein', 'molfunc_protein', 'molecular_function'): 0.9488038298074501\n",
      "('molecular_function', 'rev_molfunc_protein', 'gene/protein'): 0.8406044370674204\n",
      "('gene/protein', 'bioprocess_protein', 'biological_process'): 0.8828276211987391\n",
      "('biological_process', 'rev_bioprocess_protein', 'gene/protein'): 0.874288284475836\n",
      "----- AUPRC Performance in Each Relation -----\n",
      "('gene/protein', 'molfunc_protein', 'molecular_function'): 0.9507664570136986\n",
      "('molecular_function', 'rev_molfunc_protein', 'gene/protein'): 0.8314402454053396\n",
      "('gene/protein', 'bioprocess_protein', 'biological_process'): 0.8876448790576825\n",
      "('biological_process', 'rev_bioprocess_protein', 'gene/protein'): 0.868580953872883\n",
      "----------------------------------------------\n",
      "Epoch: 55 LR: 0.00100 Loss 0.5576, Train Micro AUROC 0.9619 Train Micro AUPRC 0.9571 Train Macro AUROC 0.9591 Train Macro AUPRC 0.9537\n",
      "----- AUROC Performance in Each Relation -----\n",
      "('gene/protein', 'molfunc_protein', 'molecular_function'): 0.9900923522577949\n",
      "('molecular_function', 'rev_molfunc_protein', 'gene/protein'): 0.9274610836366469\n",
      "('gene/protein', 'bioprocess_protein', 'biological_process'): 0.967512353543101\n",
      "('biological_process', 'rev_bioprocess_protein', 'gene/protein'): 0.9512818990986914\n",
      "----- AUPRC Performance in Each Relation -----\n",
      "('gene/protein', 'molfunc_protein', 'molecular_function'): 0.988281403056075\n",
      "('molecular_function', 'rev_molfunc_protein', 'gene/protein'): 0.9198125180011947\n",
      "('gene/protein', 'bioprocess_protein', 'biological_process'): 0.9616021190167986\n",
      "('biological_process', 'rev_bioprocess_protein', 'gene/protein'): 0.9449953577956287\n",
      "----------------------------------------------\n",
      "Epoch: 60 LR: 0.00100 Loss 0.5555, Train Micro AUROC 0.9643 Train Micro AUPRC 0.9592 Train Macro AUROC 0.9617 Train Macro AUPRC 0.9560\n",
      "----- AUROC Performance in Each Relation -----\n",
      "('gene/protein', 'molfunc_protein', 'molecular_function'): 0.9910105864250539\n",
      "('molecular_function', 'rev_molfunc_protein', 'gene/protein'): 0.9329590671231927\n",
      "('gene/protein', 'bioprocess_protein', 'biological_process'): 0.96973151647831\n",
      "('biological_process', 'rev_bioprocess_protein', 'gene/protein'): 0.9529421028004399\n",
      "----- AUPRC Performance in Each Relation -----\n",
      "('gene/protein', 'molfunc_protein', 'molecular_function'): 0.9891227797104554\n",
      "('molecular_function', 'rev_molfunc_protein', 'gene/protein'): 0.9253805075725956\n",
      "('gene/protein', 'bioprocess_protein', 'biological_process'): 0.9637724642182728\n",
      "('biological_process', 'rev_bioprocess_protein', 'gene/protein'): 0.9458596898484962\n",
      "----------------------------------------------\n",
      "Validation.....\n",
      "Epoch: 60 LR: 0.00100 Validation Loss 0.5968,  Validation Micro AUROC 0.8888 Validation Micro AUPRC 0.8901 Validation Macro AUROC 0.8894 Validation Macro AUPRC 0.8875 (Best Macro AUROC 0.8894)\n",
      "----- AUROC Performance in Each Relation -----\n",
      "('gene/protein', 'molfunc_protein', 'molecular_function'): 0.9510441989913792\n",
      "('molecular_function', 'rev_molfunc_protein', 'gene/protein'): 0.8425545735402313\n",
      "('gene/protein', 'bioprocess_protein', 'biological_process'): 0.8863788569789703\n",
      "('biological_process', 'rev_bioprocess_protein', 'gene/protein'): 0.8776329882945563\n",
      "----- AUPRC Performance in Each Relation -----\n",
      "('gene/protein', 'molfunc_protein', 'molecular_function'): 0.9523792435073188\n",
      "('molecular_function', 'rev_molfunc_protein', 'gene/protein'): 0.8336769785668219\n",
      "('gene/protein', 'bioprocess_protein', 'biological_process'): 0.8913307861940061\n",
      "('biological_process', 'rev_bioprocess_protein', 'gene/protein'): 0.8727112040179449\n",
      "----------------------------------------------\n",
      "Epoch: 65 LR: 0.00100 Loss 0.5535, Train Micro AUROC 0.9666 Train Micro AUPRC 0.9618 Train Macro AUROC 0.9642 Train Macro AUPRC 0.9590\n",
      "----- AUROC Performance in Each Relation -----\n",
      "('gene/protein', 'molfunc_protein', 'molecular_function'): 0.9916899640971548\n",
      "('molecular_function', 'rev_molfunc_protein', 'gene/protein'): 0.9379538315056037\n",
      "('gene/protein', 'bioprocess_protein', 'biological_process'): 0.9713297011073956\n",
      "('biological_process', 'rev_bioprocess_protein', 'gene/protein'): 0.9558573091123571\n",
      "----- AUPRC Performance in Each Relation -----\n",
      "('gene/protein', 'molfunc_protein', 'molecular_function'): 0.990094679056029\n",
      "('molecular_function', 'rev_molfunc_protein', 'gene/protein'): 0.9306006350591917\n",
      "('gene/protein', 'bioprocess_protein', 'biological_process'): 0.9656293578749253\n",
      "('biological_process', 'rev_bioprocess_protein', 'gene/protein'): 0.9495049586993372\n",
      "----------------------------------------------\n",
      "Epoch: 70 LR: 0.00100 Loss 0.5518, Train Micro AUROC 0.9679 Train Micro AUPRC 0.9630 Train Macro AUROC 0.9656 Train Macro AUPRC 0.9601\n",
      "----- AUROC Performance in Each Relation -----\n",
      "('gene/protein', 'molfunc_protein', 'molecular_function'): 0.9924825522972646\n",
      "('molecular_function', 'rev_molfunc_protein', 'gene/protein'): 0.9398993566401829\n",
      "('gene/protein', 'bioprocess_protein', 'biological_process'): 0.9727048432029024\n",
      "('biological_process', 'rev_bioprocess_protein', 'gene/protein'): 0.9573879240312961\n",
      "----- AUPRC Performance in Each Relation -----\n",
      "('gene/protein', 'molfunc_protein', 'molecular_function'): 0.9910519997492423\n",
      "('molecular_function', 'rev_molfunc_protein', 'gene/protein'): 0.9318437196534928\n",
      "('gene/protein', 'bioprocess_protein', 'biological_process'): 0.9671505889182505\n",
      "('biological_process', 'rev_bioprocess_protein', 'gene/protein'): 0.9504307237355263\n",
      "----------------------------------------------\n",
      "Validation.....\n",
      "Epoch: 70 LR: 0.00100 Validation Loss 0.5953,  Validation Micro AUROC 0.8901 Validation Micro AUPRC 0.8917 Validation Macro AUROC 0.8904 Validation Macro AUPRC 0.8890 (Best Macro AUROC 0.8904)\n",
      "----- AUROC Performance in Each Relation -----\n",
      "('gene/protein', 'molfunc_protein', 'molecular_function'): 0.9523009671338645\n",
      "('molecular_function', 'rev_molfunc_protein', 'gene/protein'): 0.8414246130745103\n",
      "('gene/protein', 'bioprocess_protein', 'biological_process'): 0.8885331291983762\n",
      "('biological_process', 'rev_bioprocess_protein', 'gene/protein'): 0.8793807183503026\n",
      "----- AUPRC Performance in Each Relation -----\n",
      "('gene/protein', 'molfunc_protein', 'molecular_function'): 0.9534520166736583\n",
      "('molecular_function', 'rev_molfunc_protein', 'gene/protein'): 0.832837280915844\n",
      "('gene/protein', 'bioprocess_protein', 'biological_process'): 0.8940756273892196\n",
      "('biological_process', 'rev_bioprocess_protein', 'gene/protein'): 0.8756101863392705\n",
      "----------------------------------------------\n",
      "Epoch: 75 LR: 0.00100 Loss 0.5505, Train Micro AUROC 0.9694 Train Micro AUPRC 0.9642 Train Macro AUROC 0.9670 Train Macro AUPRC 0.9610\n",
      "----- AUROC Performance in Each Relation -----\n",
      "('gene/protein', 'molfunc_protein', 'molecular_function'): 0.993217015098563\n",
      "('molecular_function', 'rev_molfunc_protein', 'gene/protein'): 0.9417426859376081\n",
      "('gene/protein', 'bioprocess_protein', 'biological_process'): 0.9739442468594119\n",
      "('biological_process', 'rev_bioprocess_protein', 'gene/protein'): 0.9590013199325038\n",
      "----- AUPRC Performance in Each Relation -----\n",
      "('gene/protein', 'molfunc_protein', 'molecular_function'): 0.9918422238329284\n",
      "('molecular_function', 'rev_molfunc_protein', 'gene/protein'): 0.9316594100755788\n",
      "('gene/protein', 'bioprocess_protein', 'biological_process'): 0.9682053973946698\n",
      "('biological_process', 'rev_bioprocess_protein', 'gene/protein'): 0.9523031593328604\n",
      "----------------------------------------------\n",
      "Epoch: 80 LR: 0.00100 Loss 0.5491, Train Micro AUROC 0.9706 Train Micro AUPRC 0.9655 Train Macro AUROC 0.9681 Train Macro AUPRC 0.9623\n",
      "----- AUROC Performance in Each Relation -----\n",
      "('gene/protein', 'molfunc_protein', 'molecular_function'): 0.993169140730919\n",
      "('molecular_function', 'rev_molfunc_protein', 'gene/protein'): 0.9432673055615244\n",
      "('gene/protein', 'bioprocess_protein', 'biological_process'): 0.9753911739511977\n",
      "('biological_process', 'rev_bioprocess_protein', 'gene/protein'): 0.9603900939999842\n",
      "----- AUPRC Performance in Each Relation -----\n",
      "('gene/protein', 'molfunc_protein', 'molecular_function'): 0.991707104632354\n",
      "('molecular_function', 'rev_molfunc_protein', 'gene/protein'): 0.933698628441138\n",
      "('gene/protein', 'bioprocess_protein', 'biological_process'): 0.9702844822690713\n",
      "('biological_process', 'rev_bioprocess_protein', 'gene/protein'): 0.9534605124717228\n",
      "----------------------------------------------\n",
      "Validation.....\n",
      "Epoch: 80 LR: 0.00100 Validation Loss 0.5945,  Validation Micro AUROC 0.8915 Validation Micro AUPRC 0.8932 Validation Macro AUROC 0.8911 Validation Macro AUPRC 0.8899 (Best Macro AUROC 0.8911)\n",
      "----- AUROC Performance in Each Relation -----\n",
      "('gene/protein', 'molfunc_protein', 'molecular_function'): 0.9531480066260036\n",
      "('molecular_function', 'rev_molfunc_protein', 'gene/protein'): 0.8405498227149328\n",
      "('gene/protein', 'bioprocess_protein', 'biological_process'): 0.8904906985947656\n",
      "('biological_process', 'rev_bioprocess_protein', 'gene/protein'): 0.8802497795621663\n",
      "----- AUPRC Performance in Each Relation -----\n",
      "('gene/protein', 'molfunc_protein', 'molecular_function'): 0.9541701850272946\n",
      "('molecular_function', 'rev_molfunc_protein', 'gene/protein'): 0.8316988642719956\n",
      "('gene/protein', 'bioprocess_protein', 'biological_process'): 0.8964049941253966\n",
      "('biological_process', 'rev_bioprocess_protein', 'gene/protein'): 0.877181546108678\n",
      "----------------------------------------------\n",
      "Epoch: 85 LR: 0.00100 Loss 0.5481, Train Micro AUROC 0.9716 Train Micro AUPRC 0.9665 Train Macro AUROC 0.9692 Train Macro AUPRC 0.9633\n",
      "----- AUROC Performance in Each Relation -----\n",
      "('gene/protein', 'molfunc_protein', 'molecular_function'): 0.9934220439542284\n",
      "('molecular_function', 'rev_molfunc_protein', 'gene/protein'): 0.9456336118239359\n",
      "('gene/protein', 'bioprocess_protein', 'biological_process'): 0.9763675031420931\n",
      "('biological_process', 'rev_bioprocess_protein', 'gene/protein'): 0.9613884842166924\n",
      "----- AUPRC Performance in Each Relation -----\n",
      "('gene/protein', 'molfunc_protein', 'molecular_function'): 0.9916512606901763\n",
      "('molecular_function', 'rev_molfunc_protein', 'gene/protein'): 0.9351523763930547\n",
      "('gene/protein', 'bioprocess_protein', 'biological_process'): 0.9712246345524898\n",
      "('biological_process', 'rev_bioprocess_protein', 'gene/protein'): 0.9550379693256119\n",
      "----------------------------------------------\n",
      "Epoch: 90 LR: 0.00100 Loss 0.5475, Train Micro AUROC 0.9722 Train Micro AUPRC 0.9668 Train Macro AUROC 0.9699 Train Macro AUPRC 0.9635\n",
      "----- AUROC Performance in Each Relation -----\n",
      "('gene/protein', 'molfunc_protein', 'molecular_function'): 0.9933489391805554\n",
      "('molecular_function', 'rev_molfunc_protein', 'gene/protein'): 0.9465891228219527\n",
      "('gene/protein', 'bioprocess_protein', 'biological_process'): 0.9770913833921484\n",
      "('biological_process', 'rev_bioprocess_protein', 'gene/protein'): 0.9624779391838335\n",
      "----- AUPRC Performance in Each Relation -----\n",
      "('gene/protein', 'molfunc_protein', 'molecular_function'): 0.9914365421390562\n",
      "('molecular_function', 'rev_molfunc_protein', 'gene/protein'): 0.9351527663164017\n",
      "('gene/protein', 'bioprocess_protein', 'biological_process'): 0.9716148328630088\n",
      "('biological_process', 'rev_bioprocess_protein', 'gene/protein'): 0.9559866660295853\n",
      "----------------------------------------------\n",
      "Validation.....\n",
      "Epoch: 90 LR: 0.00100 Validation Loss 0.5934,  Validation Micro AUROC 0.8908 Validation Micro AUPRC 0.8927 Validation Macro AUROC 0.8902 Validation Macro AUPRC 0.8891 (Best Macro AUROC 0.8911)\n",
      "----- AUROC Performance in Each Relation -----\n",
      "('gene/protein', 'molfunc_protein', 'molecular_function'): 0.9523238924012039\n",
      "('molecular_function', 'rev_molfunc_protein', 'gene/protein'): 0.8392074258387769\n",
      "('gene/protein', 'bioprocess_protein', 'biological_process'): 0.8895889440416341\n",
      "('biological_process', 'rev_bioprocess_protein', 'gene/protein'): 0.8797332146248004\n",
      "----- AUPRC Performance in Each Relation -----\n",
      "('gene/protein', 'molfunc_protein', 'molecular_function'): 0.9534312609192683\n",
      "('molecular_function', 'rev_molfunc_protein', 'gene/protein'): 0.8297372345243752\n",
      "('gene/protein', 'bioprocess_protein', 'biological_process'): 0.8958385566770444\n",
      "('biological_process', 'rev_bioprocess_protein', 'gene/protein'): 0.8775484192364631\n",
      "----------------------------------------------\n",
      "Epoch: 95 LR: 0.00100 Loss 0.5463, Train Micro AUROC 0.9731 Train Micro AUPRC 0.9678 Train Macro AUROC 0.9708 Train Macro AUPRC 0.9646\n",
      "----- AUROC Performance in Each Relation -----\n",
      "('gene/protein', 'molfunc_protein', 'molecular_function'): 0.994135950359898\n",
      "('molecular_function', 'rev_molfunc_protein', 'gene/protein'): 0.9478111193190575\n",
      "('gene/protein', 'bioprocess_protein', 'biological_process'): 0.9775323767658102\n",
      "('biological_process', 'rev_bioprocess_protein', 'gene/protein'): 0.9635635993305582\n",
      "----- AUPRC Performance in Each Relation -----\n",
      "('gene/protein', 'molfunc_protein', 'molecular_function'): 0.9927101544599983\n",
      "('molecular_function', 'rev_molfunc_protein', 'gene/protein'): 0.9367188924660745\n",
      "('gene/protein', 'bioprocess_protein', 'biological_process'): 0.9719221076481519\n",
      "('biological_process', 'rev_bioprocess_protein', 'gene/protein'): 0.9571192540947779\n",
      "----------------------------------------------\n",
      "Epoch: 100 LR: 0.00100 Loss 0.5453, Train Micro AUROC 0.9739 Train Micro AUPRC 0.9685 Train Macro AUROC 0.9718 Train Macro AUPRC 0.9655\n",
      "----- AUROC Performance in Each Relation -----\n",
      "('gene/protein', 'molfunc_protein', 'molecular_function'): 0.9949068050926848\n",
      "('molecular_function', 'rev_molfunc_protein', 'gene/protein'): 0.9502248618401546\n",
      "('gene/protein', 'bioprocess_protein', 'biological_process'): 0.9780130026566852\n",
      "('biological_process', 'rev_bioprocess_protein', 'gene/protein'): 0.963916877116435\n",
      "----- AUPRC Performance in Each Relation -----\n",
      "('gene/protein', 'molfunc_protein', 'molecular_function'): 0.9936408367728605\n",
      "('molecular_function', 'rev_molfunc_protein', 'gene/protein'): 0.9388495395789672\n",
      "('gene/protein', 'bioprocess_protein', 'biological_process'): 0.9722784214640547\n",
      "('biological_process', 'rev_bioprocess_protein', 'gene/protein'): 0.9571159975410877\n",
      "----------------------------------------------\n",
      "Validation.....\n",
      "Epoch: 100 LR: 0.00100 Validation Loss 0.5930,  Validation Micro AUROC 0.8911 Validation Micro AUPRC 0.8928 Validation Macro AUROC 0.8902 Validation Macro AUPRC 0.8889 (Best Macro AUROC 0.8911)\n",
      "----- AUROC Performance in Each Relation -----\n",
      "('gene/protein', 'molfunc_protein', 'molecular_function'): 0.9528281016078943\n",
      "('molecular_function', 'rev_molfunc_protein', 'gene/protein'): 0.838154227616575\n",
      "('gene/protein', 'bioprocess_protein', 'biological_process'): 0.8901062140797659\n",
      "('biological_process', 'rev_bioprocess_protein', 'gene/protein'): 0.8797573977210927\n",
      "----- AUPRC Performance in Each Relation -----\n",
      "('gene/protein', 'molfunc_protein', 'molecular_function'): 0.9536545738909427\n",
      "('molecular_function', 'rev_molfunc_protein', 'gene/protein'): 0.827588827804872\n",
      "('gene/protein', 'bioprocess_protein', 'biological_process'): 0.8962377694871808\n",
      "('biological_process', 'rev_bioprocess_protein', 'gene/protein'): 0.8779414819709692\n",
      "----------------------------------------------\n",
      "Epoch: 105 LR: 0.00100 Loss 0.5441, Train Micro AUROC 0.9750 Train Micro AUPRC 0.9697 Train Macro AUROC 0.9726 Train Macro AUPRC 0.9664\n",
      "----- AUROC Performance in Each Relation -----\n",
      "('gene/protein', 'molfunc_protein', 'molecular_function'): 0.9947422552895243\n",
      "('molecular_function', 'rev_molfunc_protein', 'gene/protein'): 0.9508970095918552\n",
      "('gene/protein', 'bioprocess_protein', 'biological_process'): 0.9796595463991248\n",
      "('biological_process', 'rev_bioprocess_protein', 'gene/protein'): 0.9651928851363811\n",
      "----- AUPRC Performance in Each Relation -----\n",
      "('gene/protein', 'molfunc_protein', 'molecular_function'): 0.9933921966565631\n",
      "('molecular_function', 'rev_molfunc_protein', 'gene/protein'): 0.9393288043396786\n",
      "('gene/protein', 'bioprocess_protein', 'biological_process'): 0.9744222919050968\n",
      "('biological_process', 'rev_bioprocess_protein', 'gene/protein'): 0.9584583831355227\n",
      "----------------------------------------------\n",
      "Epoch: 110 LR: 0.00100 Loss 0.5441, Train Micro AUROC 0.9752 Train Micro AUPRC 0.9699 Train Macro AUROC 0.9729 Train Macro AUPRC 0.9667\n",
      "----- AUROC Performance in Each Relation -----\n",
      "('gene/protein', 'molfunc_protein', 'molecular_function'): 0.994841340957206\n",
      "('molecular_function', 'rev_molfunc_protein', 'gene/protein'): 0.9516534797721243\n",
      "('gene/protein', 'bioprocess_protein', 'biological_process'): 0.9796454320165933\n",
      "('biological_process', 'rev_bioprocess_protein', 'gene/protein'): 0.9655893483471608\n",
      "----- AUPRC Performance in Each Relation -----\n",
      "('gene/protein', 'molfunc_protein', 'molecular_function'): 0.993503843823276\n",
      "('molecular_function', 'rev_molfunc_protein', 'gene/protein'): 0.9398001843693908\n",
      "('gene/protein', 'bioprocess_protein', 'biological_process'): 0.9745901631141469\n",
      "('biological_process', 'rev_bioprocess_protein', 'gene/protein'): 0.9588069409996056\n",
      "----------------------------------------------\n",
      "Validation.....\n",
      "Epoch: 110 LR: 0.00100 Validation Loss 0.5937,  Validation Micro AUROC 0.8921 Validation Micro AUPRC 0.8936 Validation Macro AUROC 0.8910 Validation Macro AUPRC 0.8893 (Best Macro AUROC 0.8911)\n",
      "----- AUROC Performance in Each Relation -----\n",
      "('gene/protein', 'molfunc_protein', 'molecular_function'): 0.9536886571805537\n",
      "('molecular_function', 'rev_molfunc_protein', 'gene/protein'): 0.8370404380448023\n",
      "('gene/protein', 'bioprocess_protein', 'biological_process'): 0.892924779146884\n",
      "('biological_process', 'rev_bioprocess_protein', 'gene/protein'): 0.8802295007288679\n",
      "----- AUPRC Performance in Each Relation -----\n",
      "('gene/protein', 'molfunc_protein', 'molecular_function'): 0.9542113318172996\n",
      "('molecular_function', 'rev_molfunc_protein', 'gene/protein'): 0.8253774998351959\n",
      "('gene/protein', 'bioprocess_protein', 'biological_process'): 0.8992641516204569\n",
      "('biological_process', 'rev_bioprocess_protein', 'gene/protein'): 0.8783207976695314\n",
      "----------------------------------------------\n",
      "Epoch: 115 LR: 0.00100 Loss 0.5430, Train Micro AUROC 0.9757 Train Micro AUPRC 0.9705 Train Macro AUROC 0.9733 Train Macro AUPRC 0.9672\n",
      "----- AUROC Performance in Each Relation -----\n",
      "('gene/protein', 'molfunc_protein', 'molecular_function'): 0.9948307836838353\n",
      "('molecular_function', 'rev_molfunc_protein', 'gene/protein'): 0.9518953115764289\n",
      "('gene/protein', 'bioprocess_protein', 'biological_process'): 0.9802650566122256\n",
      "('biological_process', 'rev_bioprocess_protein', 'gene/protein'): 0.9663385637961823\n",
      "----- AUPRC Performance in Each Relation -----\n",
      "('gene/protein', 'molfunc_protein', 'molecular_function'): 0.9933280463398291\n",
      "('molecular_function', 'rev_molfunc_protein', 'gene/protein'): 0.9403537848705117\n",
      "('gene/protein', 'bioprocess_protein', 'biological_process'): 0.9752987900438964\n",
      "('biological_process', 'rev_bioprocess_protein', 'gene/protein'): 0.9596571160339836\n",
      "----------------------------------------------\n",
      "Epoch: 120 LR: 0.00100 Loss 0.5426, Train Micro AUROC 0.9763 Train Micro AUPRC 0.9710 Train Macro AUROC 0.9740 Train Macro AUPRC 0.9679\n",
      "----- AUROC Performance in Each Relation -----\n",
      "('gene/protein', 'molfunc_protein', 'molecular_function'): 0.995216883256355\n",
      "('molecular_function', 'rev_molfunc_protein', 'gene/protein'): 0.9530393496752654\n",
      "('gene/protein', 'bioprocess_protein', 'biological_process'): 0.980597615867141\n",
      "('biological_process', 'rev_bioprocess_protein', 'gene/protein'): 0.9672677769807503\n",
      "----- AUPRC Performance in Each Relation -----\n",
      "('gene/protein', 'molfunc_protein', 'molecular_function'): 0.9938608864250505\n",
      "('molecular_function', 'rev_molfunc_protein', 'gene/protein'): 0.941467739660379\n",
      "('gene/protein', 'bioprocess_protein', 'biological_process'): 0.9752611711330174\n",
      "('biological_process', 'rev_bioprocess_protein', 'gene/protein'): 0.9608960313147371\n",
      "----------------------------------------------\n",
      "Validation.....\n",
      "Epoch: 120 LR: 0.00100 Validation Loss 0.5928,  Validation Micro AUROC 0.8905 Validation Micro AUPRC 0.8923 Validation Macro AUROC 0.8894 Validation Macro AUPRC 0.8878 (Best Macro AUROC 0.8911)\n",
      "----- AUROC Performance in Each Relation -----\n",
      "('gene/protein', 'molfunc_protein', 'molecular_function'): 0.9525604934808269\n",
      "('molecular_function', 'rev_molfunc_protein', 'gene/protein'): 0.8352684674212371\n",
      "('gene/protein', 'bioprocess_protein', 'biological_process'): 0.8905793045667912\n",
      "('biological_process', 'rev_bioprocess_protein', 'gene/protein'): 0.879052097430276\n",
      "----- AUPRC Performance in Each Relation -----\n",
      "('gene/protein', 'molfunc_protein', 'molecular_function'): 0.9531223859297959\n",
      "('molecular_function', 'rev_molfunc_protein', 'gene/protein'): 0.8231094232461965\n",
      "('gene/protein', 'bioprocess_protein', 'biological_process'): 0.8969610725219461\n",
      "('biological_process', 'rev_bioprocess_protein', 'gene/protein'): 0.8778665351277406\n",
      "----------------------------------------------\n",
      "Epoch: 125 LR: 0.00100 Loss 0.5416, Train Micro AUROC 0.9768 Train Micro AUPRC 0.9716 Train Macro AUROC 0.9745 Train Macro AUPRC 0.9683\n",
      "----- AUROC Performance in Each Relation -----\n",
      "('gene/protein', 'molfunc_protein', 'molecular_function'): 0.9951405517136618\n",
      "('molecular_function', 'rev_molfunc_protein', 'gene/protein'): 0.953938247625996\n",
      "('gene/protein', 'bioprocess_protein', 'biological_process'): 0.9807474830791989\n",
      "('biological_process', 'rev_bioprocess_protein', 'gene/protein'): 0.9683569527992394\n",
      "----- AUPRC Performance in Each Relation -----\n",
      "('gene/protein', 'molfunc_protein', 'molecular_function'): 0.9937770923378758\n",
      "('molecular_function', 'rev_molfunc_protein', 'gene/protein'): 0.9410005289948034\n",
      "('gene/protein', 'bioprocess_protein', 'biological_process'): 0.9758905187054451\n",
      "('biological_process', 'rev_bioprocess_protein', 'gene/protein'): 0.9625296591286956\n",
      "----------------------------------------------\n",
      "Epoch: 130 LR: 0.00100 Loss 0.5418, Train Micro AUROC 0.9772 Train Micro AUPRC 0.9719 Train Macro AUROC 0.9749 Train Macro AUPRC 0.9686\n",
      "----- AUROC Performance in Each Relation -----\n",
      "('gene/protein', 'molfunc_protein', 'molecular_function'): 0.9955494348978333\n",
      "('molecular_function', 'rev_molfunc_protein', 'gene/protein'): 0.9545239059038603\n",
      "('gene/protein', 'bioprocess_protein', 'biological_process'): 0.9817659880113213\n",
      "('biological_process', 'rev_bioprocess_protein', 'gene/protein'): 0.967950086409435\n",
      "----- AUPRC Performance in Each Relation -----\n",
      "('gene/protein', 'molfunc_protein', 'molecular_function'): 0.9942600237828538\n",
      "('molecular_function', 'rev_molfunc_protein', 'gene/protein'): 0.9417667509903567\n",
      "('gene/protein', 'bioprocess_protein', 'biological_process'): 0.9769958821930846\n",
      "('biological_process', 'rev_bioprocess_protein', 'gene/protein'): 0.9612191611342689\n",
      "----------------------------------------------\n",
      "Validation.....\n",
      "Epoch: 130 LR: 0.00100 Validation Loss 0.5934,  Validation Micro AUROC 0.8919 Validation Micro AUPRC 0.8933 Validation Macro AUROC 0.8902 Validation Macro AUPRC 0.8885 (Best Macro AUROC 0.8911)\n",
      "----- AUROC Performance in Each Relation -----\n",
      "('gene/protein', 'molfunc_protein', 'molecular_function'): 0.9533554047579155\n",
      "('molecular_function', 'rev_molfunc_protein', 'gene/protein'): 0.8344350246807444\n",
      "('gene/protein', 'bioprocess_protein', 'biological_process'): 0.8933639554706918\n",
      "('biological_process', 'rev_bioprocess_protein', 'gene/protein'): 0.8796877364708444\n",
      "----- AUPRC Performance in Each Relation -----\n",
      "('gene/protein', 'molfunc_protein', 'molecular_function'): 0.9537538621270042\n",
      "('molecular_function', 'rev_molfunc_protein', 'gene/protein'): 0.8217852286260979\n",
      "('gene/protein', 'bioprocess_protein', 'biological_process'): 0.8999391015165992\n",
      "('biological_process', 'rev_bioprocess_protein', 'gene/protein'): 0.8784276598468674\n",
      "----------------------------------------------\n",
      "Epoch: 135 LR: 0.00100 Loss 0.5409, Train Micro AUROC 0.9777 Train Micro AUPRC 0.9724 Train Macro AUROC 0.9754 Train Macro AUPRC 0.9691\n",
      "----- AUROC Performance in Each Relation -----\n",
      "('gene/protein', 'molfunc_protein', 'molecular_function'): 0.9956418676557172\n",
      "('molecular_function', 'rev_molfunc_protein', 'gene/protein'): 0.9550463899775588\n",
      "('gene/protein', 'bioprocess_protein', 'biological_process'): 0.9819756769278557\n",
      "('biological_process', 'rev_bioprocess_protein', 'gene/protein'): 0.9690008928678506\n",
      "----- AUPRC Performance in Each Relation -----\n",
      "('gene/protein', 'molfunc_protein', 'molecular_function'): 0.9943371880966284\n",
      "('molecular_function', 'rev_molfunc_protein', 'gene/protein'): 0.9428453631005214\n",
      "('gene/protein', 'bioprocess_protein', 'biological_process'): 0.9768800046778428\n",
      "('biological_process', 'rev_bioprocess_protein', 'gene/protein'): 0.962419040726055\n",
      "----------------------------------------------\n",
      "Epoch: 140 LR: 0.00100 Loss 0.5406, Train Micro AUROC 0.9778 Train Micro AUPRC 0.9725 Train Macro AUROC 0.9755 Train Macro AUPRC 0.9692\n",
      "----- AUROC Performance in Each Relation -----\n",
      "('gene/protein', 'molfunc_protein', 'molecular_function'): 0.9955413073554913\n",
      "('molecular_function', 'rev_molfunc_protein', 'gene/protein'): 0.9551467607848083\n",
      "('gene/protein', 'bioprocess_protein', 'biological_process'): 0.982303216131333\n",
      "('biological_process', 'rev_bioprocess_protein', 'gene/protein'): 0.9691568327105317\n",
      "----- AUPRC Performance in Each Relation -----\n",
      "('gene/protein', 'molfunc_protein', 'molecular_function'): 0.9941087355573256\n",
      "('molecular_function', 'rev_molfunc_protein', 'gene/protein'): 0.9424540360504687\n",
      "('gene/protein', 'bioprocess_protein', 'biological_process'): 0.9774895868691154\n",
      "('biological_process', 'rev_bioprocess_protein', 'gene/protein'): 0.9626620322786786\n",
      "----------------------------------------------\n",
      "Validation.....\n",
      "Epoch: 140 LR: 0.00100 Validation Loss 0.5930,  Validation Micro AUROC 0.8910 Validation Micro AUPRC 0.8925 Validation Macro AUROC 0.8895 Validation Macro AUPRC 0.8878 (Best Macro AUROC 0.8911)\n",
      "----- AUROC Performance in Each Relation -----\n",
      "('gene/protein', 'molfunc_protein', 'molecular_function'): 0.952322939015166\n",
      "('molecular_function', 'rev_molfunc_protein', 'gene/protein'): 0.833200067077308\n",
      "('gene/protein', 'bioprocess_protein', 'biological_process'): 0.8931780303749699\n",
      "('biological_process', 'rev_bioprocess_protein', 'gene/protein'): 0.8794275035615536\n",
      "----- AUPRC Performance in Each Relation -----\n",
      "('gene/protein', 'molfunc_protein', 'molecular_function'): 0.952737411294537\n",
      "('molecular_function', 'rev_molfunc_protein', 'gene/protein'): 0.8201473857368207\n",
      "('gene/protein', 'bioprocess_protein', 'biological_process'): 0.8998382712475811\n",
      "('biological_process', 'rev_bioprocess_protein', 'gene/protein'): 0.8785470790832579\n",
      "----------------------------------------------\n",
      "Epoch: 145 LR: 0.00100 Loss 0.5397, Train Micro AUROC 0.9783 Train Micro AUPRC 0.9728 Train Macro AUROC 0.9759 Train Macro AUPRC 0.9693\n",
      "----- AUROC Performance in Each Relation -----\n",
      "('gene/protein', 'molfunc_protein', 'molecular_function'): 0.9955441437629935\n",
      "('molecular_function', 'rev_molfunc_protein', 'gene/protein'): 0.9554891070877194\n",
      "('gene/protein', 'bioprocess_protein', 'biological_process'): 0.982672161407057\n",
      "('biological_process', 'rev_bioprocess_protein', 'gene/protein'): 0.969974881164878\n",
      "----- AUPRC Performance in Each Relation -----\n",
      "('gene/protein', 'molfunc_protein', 'molecular_function'): 0.9942574652324135\n",
      "('molecular_function', 'rev_molfunc_protein', 'gene/protein'): 0.94162166410217\n",
      "('gene/protein', 'bioprocess_protein', 'biological_process'): 0.9778407991461391\n",
      "('biological_process', 'rev_bioprocess_protein', 'gene/protein'): 0.9634327371898113\n",
      "----------------------------------------------\n",
      "Testing...\n",
      "Testing Loss 0.6001 Testing Micro AUROC 0.8802 Testing Micro AUPRC 0.8808 Testing Macro AUROC 0.8820 Testing Macro AUPRC 0.8795\n",
      "----- AUROC Performance in Each Relation -----\n",
      "('gene/protein', 'molfunc_protein', 'molecular_function'): 0.9432461256606206\n",
      "('molecular_function', 'rev_molfunc_protein', 'gene/protein'): 0.8410437890065827\n",
      "('gene/protein', 'bioprocess_protein', 'biological_process'): 0.8769823494398828\n",
      "('biological_process', 'rev_bioprocess_protein', 'gene/protein'): 0.8665424494826166\n",
      "----- AUPRC Performance in Each Relation -----\n",
      "('gene/protein', 'molfunc_protein', 'molecular_function'): 0.9429407040596074\n",
      "('molecular_function', 'rev_molfunc_protein', 'gene/protein'): 0.8301205758277508\n",
      "('gene/protein', 'bioprocess_protein', 'biological_process'): 0.8834073597605614\n",
      "('biological_process', 'rev_bioprocess_protein', 'gene/protein'): 0.8614561415038793\n",
      "----------------------------------------------\n",
      "[2024-04-25 19:08:24] Finetune done! \n"
     ]
    },
    {
     "name": "stderr",
     "output_type": "stream",
     "text": [
      "wandb: WARNING Source type is set to 'repo' but some required information is missing from the environment. A job will not be created from this run. See https://docs.wandb.ai/guides/launch/create-job\n"
     ]
    },
    {
     "data": {
      "text/html": [
       "<style>\n",
       "    table.wandb td:nth-child(1) { padding: 0 10px; text-align: left ; width: auto;} td:nth-child(2) {text-align: left ; width: 100%}\n",
       "    .wandb-row { display: flex; flex-direction: row; flex-wrap: wrap; justify-content: flex-start; width: 100% }\n",
       "    .wandb-col { display: flex; flex-direction: column; flex-basis: 100%; flex: 1; padding: 10px; }\n",
       "    </style>\n",
       "<div class=\"wandb-row\"><div class=\"wandb-col\"><h3>Run history:</h3><br/><table class=\"wandb\"><tr><td>LR</td><td>▁▁▁▁▁▁▁▁▁▁▁▁▁▁▁▁▁▁▁▁▁▁▁▁▁▁▁▁▁▁</td></tr><tr><td>Testing Loss</td><td>▁</td></tr><tr><td>Testing Macro AUPRC</td><td>▁</td></tr><tr><td>Testing Macro AUROC</td><td>▁</td></tr><tr><td>Testing Micro AUPRC</td><td>▁</td></tr><tr><td>Testing Micro AUROC</td><td>▁</td></tr><tr><td>Training Loss</td><td>█▇▆▅▄▄▃▃▃▂▂▂▂▂▂▂▂▂▂▁▁▁▁▁▁▁▁▁▁▁▁▁▁▁▁▁▁▁▁▁</td></tr><tr><td>Training Macro AUPRC</td><td>▁▅▆▆▇▇▇▇██████████████████████</td></tr><tr><td>Training Macro AUROC</td><td>▁▅▅▆▇▇▇▇▇█████████████████████</td></tr><tr><td>Training Micro AUPRC</td><td>▁▅▆▆▇▇▇▇██████████████████████</td></tr><tr><td>Training Micro AUROC</td><td>▁▅▆▆▆▇▇▇▇█████████████████████</td></tr><tr><td>Validation Loss</td><td>█▅▃▂▂▁▁▁▁▁▁▁▁▁▁</td></tr><tr><td>Validation Macro AUPRC</td><td>▁▅▆▇███████████</td></tr><tr><td>Validation Macro AUROC</td><td>▁▄▆▇███████████</td></tr><tr><td>Validation Micro AUPRC</td><td>▁▄▆▇███████████</td></tr><tr><td>Validation Micro AUROC</td><td>▁▄▆▇███████████</td></tr></table><br/></div><div class=\"wandb-col\"><h3>Run summary:</h3><br/><table class=\"wandb\"><tr><td>LR</td><td>0.001</td></tr><tr><td>Testing Loss</td><td>0.60012</td></tr><tr><td>Testing Macro AUPRC</td><td>0.87948</td></tr><tr><td>Testing Macro AUROC</td><td>0.88195</td></tr><tr><td>Testing Micro AUPRC</td><td>0.88077</td></tr><tr><td>Testing Micro AUROC</td><td>0.88017</td></tr><tr><td>Training Loss</td><td>0.53925</td></tr><tr><td>Training Macro AUPRC</td><td>0.96929</td></tr><tr><td>Training Macro AUROC</td><td>0.97592</td></tr><tr><td>Training Micro AUPRC</td><td>0.97283</td></tr><tr><td>Training Micro AUROC</td><td>0.97829</td></tr><tr><td>Validation Loss</td><td>0.59303</td></tr><tr><td>Validation Macro AUPRC</td><td>0.88782</td></tr><tr><td>Validation Macro AUROC</td><td>0.88953</td></tr><tr><td>Validation Micro AUPRC</td><td>0.89254</td></tr><tr><td>Validation Micro AUROC</td><td>0.89096</td></tr></table><br/></div></div>"
      ],
      "text/plain": [
       "<IPython.core.display.HTML object>"
      ]
     },
     "metadata": {},
     "output_type": "display_data"
    },
    {
     "data": {
      "text/html": [
       " View run <strong style=\"color:#cdcd00\">Finetune ProtGNN No ESM</strong> at: <a href='https://wandb.ai/eptysinger/MEng/runs/3udhikje' target=\"_blank\">https://wandb.ai/eptysinger/MEng/runs/3udhikje</a><br/>Synced 6 W&B file(s), 16 media file(s), 16 artifact file(s) and 0 other file(s)"
      ],
      "text/plain": [
       "<IPython.core.display.HTML object>"
      ]
     },
     "metadata": {},
     "output_type": "display_data"
    },
    {
     "data": {
      "text/html": [
       "Find logs at: <code>./wandb/run-20240425_190632-3udhikje/logs</code>"
      ],
      "text/plain": [
       "<IPython.core.display.HTML object>"
      ]
     },
     "metadata": {},
     "output_type": "display_data"
    }
   ],
   "source": [
    "TxGNN_model.finetune(save_path = '/om/user/tysinger/models', \n",
    "                    name = 'finetune_debug',\n",
    "                    n_epoch = 150, \n",
    "                    learning_rate = 1e-3,\n",
    "                    train_print_per_n = 5,\n",
    "                    valid_per_n = 10,\n",
    "                    save_per_n = 1000,\n",
    "                    b=None,\n",
    "                    edge_type = etype,\n",
    "                    sweep_wandb=None)\n",
    "print(f'[{get_timestamp()}] Finetune done! ')\n",
    "wandb.finish()"
   ]
  },
  {
   "cell_type": "code",
   "execution_count": 6,
   "metadata": {},
   "outputs": [
    {
     "name": "stdout",
     "output_type": "stream",
     "text": [
      "Retrieving embeddings ...\n"
     ]
    },
    {
     "data": {
      "text/plain": [
       "{'anatomy': tensor([[-1.9802, -0.5453,  0.5164,  ...,  0.6677, -1.7421, -5.2730],\n",
       "         [ 0.0630, -0.0508,  0.0190,  ..., -0.3061,  0.0407, -0.0413],\n",
       "         [ 0.2067, -0.0705, -0.0282,  ..., -0.1096, -0.0122, -0.1034],\n",
       "         ...,\n",
       "         [ 0.1044,  0.0409,  0.0238,  ..., -0.2886, -0.2127, -0.1201],\n",
       "         [ 0.1044,  0.0409,  0.0238,  ..., -0.2886, -0.2127, -0.1201],\n",
       "         [ 0.1044,  0.0409,  0.0238,  ..., -0.2886, -0.2127, -0.1201]]),\n",
       " 'biological_process': tensor([[ 0.2110, -0.0167, -0.3080,  ...,  0.1197, -0.0977, -0.1972],\n",
       "         [ 3.5733, -0.1231,  0.2335,  ...,  1.4229, -1.5625,  0.4836],\n",
       "         [ 0.7233,  0.5643, -1.2228,  ..., -0.9294, -0.3532,  1.6331],\n",
       "         ...,\n",
       "         [ 0.0751,  0.0390, -0.1800,  ...,  0.1959, -0.0188, -0.2062],\n",
       "         [ 0.1788,  0.2016,  0.0113,  ...,  0.0774, -0.1147,  0.0995],\n",
       "         [ 0.0909,  0.1762, -0.5710,  ...,  0.1129, -0.1236, -0.3181]]),\n",
       " 'cellular_component': tensor([[-0.2363, -0.4105, -0.0920,  ..., -0.3093,  0.0604,  0.3127],\n",
       "         [-0.0806, -0.2735,  1.0130,  ..., -1.2328,  0.0800, -0.1544],\n",
       "         [-0.1943,  0.0427,  0.8891,  ..., -0.6489, -0.1377, -0.0875],\n",
       "         ...,\n",
       "         [-0.0425,  0.2611,  1.6390,  ..., -1.3867, -1.1190,  0.7259],\n",
       "         [ 0.2267, -0.0760,  1.4148,  ...,  0.0451, -0.0294,  1.5191],\n",
       "         [ 0.4866, -0.0208,  0.3214,  ..., -0.0319, -0.4651,  0.5404]]),\n",
       " 'disease': tensor([[ 0.0168,  0.3636, -0.1477,  ..., -0.4591, -0.1398,  0.1494],\n",
       "         [ 0.2272,  0.1418, -0.4012,  ..., -0.8985, -0.2947,  0.0120],\n",
       "         [ 0.0203,  0.1746, -0.0376,  ..., -0.6098, -0.0214,  0.1280],\n",
       "         ...,\n",
       "         [ 0.2821, -1.6464, -1.2031,  ...,  0.9219,  0.2434,  0.1469],\n",
       "         [ 0.4914, -1.7792, -0.3805,  ..., -0.5555, -0.5752,  0.1805],\n",
       "         [ 0.7389, -2.0292, -0.4060,  ...,  0.2775,  0.0777,  0.4175]]),\n",
       " 'drug': tensor([[-0.8380, -1.2176, -0.2962,  ...,  0.0659,  1.9634,  0.8790],\n",
       "         [ 1.1898, -1.2252, -0.8388,  ..., -1.0830,  1.8890,  0.1454],\n",
       "         [ 0.0000,  0.0000,  0.0000,  ...,  0.0000,  0.0000,  0.0000],\n",
       "         ...,\n",
       "         [ 1.0727, -0.9208, -0.9120,  ..., -0.1746,  1.5165,  0.5730],\n",
       "         [ 0.3004, -0.4365,  0.0048,  ..., -1.0431,  0.1852,  0.2012],\n",
       "         [ 1.0293, -1.2005, -1.2234,  ...,  1.2896,  1.8026,  0.7101]]),\n",
       " 'effect/phenotype': tensor([[-0.3430,  0.4053,  0.2573,  ...,  0.4939,  0.4059,  0.0974],\n",
       "         [-0.3403,  0.3920,  0.5565,  ...,  0.2095, -0.1740, -0.0424],\n",
       "         [ 0.1005, -0.2244,  0.7091,  ...,  0.0498, -0.2341,  0.1582],\n",
       "         ...,\n",
       "         [-0.4458,  0.3559,  0.2284,  ..., -0.0017,  0.6193,  0.4578],\n",
       "         [-0.2956,  0.3941,  0.1310,  ...,  0.3574,  0.2576,  0.0037],\n",
       "         [ 0.1099,  0.5907,  0.4442,  ...,  0.8368,  0.1528, -1.0086]]),\n",
       " 'exposure': tensor([[-0.1254,  0.3946,  2.6176,  ...,  0.1793,  0.2393, -0.0915],\n",
       "         [ 0.0291, -2.5647, -2.3887,  ..., -1.1595, -1.4217,  0.0594],\n",
       "         [-0.2176,  0.7244,  1.5777,  ...,  0.8625, -0.1805, -0.0429],\n",
       "         ...,\n",
       "         [ 0.0000,  0.0000,  0.0000,  ...,  0.0000,  0.0000,  0.0000],\n",
       "         [-0.1278, -0.1036,  0.1245,  ...,  0.2564,  0.6487,  0.1963],\n",
       "         [-0.0420,  0.3485,  0.1343,  ..., -0.2452,  0.2269,  0.0650]]),\n",
       " 'gene/protein': tensor([[ 0.8813,  1.4219,  0.6371,  ..., -0.2513, -3.7855,  3.5270],\n",
       "         [-0.0640,  3.7548,  0.1906,  ...,  0.1494, -1.1072,  1.9144],\n",
       "         [-1.3884,  0.5533,  0.2034,  ..., -1.1978, -2.3483, -0.0461],\n",
       "         ...,\n",
       "         [-0.8409,  0.4687,  0.5242,  ...,  1.1678, -1.4736,  1.2284],\n",
       "         [ 0.0000,  0.0000,  0.0000,  ...,  0.0000,  0.0000,  0.0000],\n",
       "         [-1.0839,  0.1780, -0.0099,  ..., -0.1636, -3.5300,  3.5585]]),\n",
       " 'molecular_function': tensor([[ 0.7735, -1.1797,  0.9838,  ..., -1.2373,  0.0600, -1.8622],\n",
       "         [ 0.4151,  0.1937,  0.0115,  ..., -0.9015,  0.0625,  0.1386],\n",
       "         [ 0.8424, -0.3711,  0.2157,  ..., -1.3964,  0.6068, -0.2453],\n",
       "         ...,\n",
       "         [ 0.0000,  0.0000,  0.0000,  ...,  0.0000,  0.0000,  0.0000],\n",
       "         [ 0.5590,  0.2487,  0.2958,  ..., -0.9410,  0.1335,  0.1779],\n",
       "         [ 1.0140,  0.2875,  0.9864,  ..., -0.4390,  0.9991, -0.8933]]),\n",
       " 'pathway': tensor([[-0.5941,  1.1343,  1.2602,  ...,  0.6201,  0.4322,  0.9418],\n",
       "         [ 0.5209,  0.0534, -0.4707,  ...,  0.1201,  0.1902,  0.3152],\n",
       "         [ 0.1987, -0.0262, -0.3466,  ...,  0.2483,  0.1592, -0.7007],\n",
       "         ...,\n",
       "         [-4.3474, -0.2151,  1.3756,  ..., -2.3390,  0.3281, -0.6684],\n",
       "         [ 0.0678,  0.1862, -0.6636,  ...,  0.1812, -0.3338,  0.1592],\n",
       "         [-2.8894,  0.5423,  1.7452,  ..., -1.0480, -0.6577,  0.0811]])}"
      ]
     },
     "execution_count": 6,
     "metadata": {},
     "output_type": "execute_result"
    }
   ],
   "source": [
    "TxGNN_model.save_model('/om/user/tysinger/models/protgnn_finetuned_noesm')\n",
    "TxGNN_model.retrieve_embedding(path = '/om/user/tysinger/embeddings', save_name='protgnn_finetuned_noesm')"
   ]
  },
  {
   "cell_type": "markdown",
   "metadata": {},
   "source": [
    "## Node Type Ablation Testing"
   ]
  },
  {
   "cell_type": "code",
   "execution_count": 1,
   "metadata": {},
   "outputs": [
    {
     "name": "stderr",
     "output_type": "stream",
     "text": [
      "/home/tysinger/.conda/envs/txgnn_env2/lib/python3.8/site-packages/tqdm/auto.py:21: TqdmWarning: IProgress not found. Please update jupyter and ipywidgets. See https://ipywidgets.readthedocs.io/en/stable/user_install.html\n",
      "  from .autonotebook import tqdm as notebook_tqdm\n"
     ]
    }
   ],
   "source": [
    "from importlib import reload\n",
    "import txgnn\n",
    "reload(txgnn)\n",
    "from txgnn import TxData, TxGNN, TxEval\n",
    "from txgnn import utils"
   ]
  },
  {
   "cell_type": "code",
   "execution_count": 6,
   "metadata": {},
   "outputs": [
    {
     "name": "stdout",
     "output_type": "stream",
     "text": [
      "[2024-05-02 23:08:23] Loading data ...\n",
      "Found local copy...\n",
      "Found local copy...\n",
      "Found local copy...\n",
      "Found saved processed KG... Loading...\n",
      "Splits detected... Loading splits....\n",
      "Removing node type: anatomy\n",
      "Creating DGL graph....\n",
      "Done!\n"
     ]
    }
   ],
   "source": [
    "def get_timestamp():\n",
    "    return datetime.datetime.now().strftime(\"%Y-%m-%d %H:%M:%S\")\n",
    "\n",
    "data_path = '/om/user/tysinger/kg/'\n",
    "\n",
    "print(f'[{get_timestamp()}] Loading data ...')\n",
    "TxData_inst = TxData(data_folder_path = data_path)\n",
    "TxData_inst.prepare_split(split = 'random', seed = 42, no_kg = False, remove_node_type='anatomy')"
   ]
  },
  {
   "cell_type": "code",
   "execution_count": 8,
   "metadata": {},
   "outputs": [],
   "source": [
    "node_types = ['anatomy', 'biological_process', 'cellular_component', 'disease', 'drug', 'effect/phenotype', 'exposure', 'molecular_function', 'pathway']"
   ]
  },
  {
   "cell_type": "code",
   "execution_count": 9,
   "metadata": {},
   "outputs": [
    {
     "name": "stdout",
     "output_type": "stream",
     "text": [
      "anatomy\n",
      "biological_process\n",
      "cellular_component\n",
      "disease\n",
      "drug\n",
      "effect\n",
      "exposure\n",
      "molecular_function\n",
      "pathway\n"
     ]
    }
   ],
   "source": [
    "for node_type in node_types:\n",
    "    print(node_type.split('/')[0])"
   ]
  },
  {
   "cell_type": "code",
   "execution_count": 23,
   "metadata": {},
   "outputs": [
    {
     "data": {
      "text/plain": [
       "Graph(num_nodes={'anatomy': 14033, 'biological_process': 28642, 'cellular_component': 4176, 'disease': 17080, 'drug': 7957, 'effect/phenotype': 15311, 'exposure': 818, 'gene/protein': 27610, 'molecular_function': 11169, 'pathway': 2516},\n",
       "      num_edges={('anatomy', 'anatomy_anatomy', 'anatomy'): 23328, ('anatomy', 'rev_anatomy_protein_absent', 'gene/protein'): 16531, ('anatomy', 'rev_anatomy_protein_present', 'gene/protein'): 1262006, ('biological_process', 'bioprocess_bioprocess', 'biological_process'): 87924, ('biological_process', 'rev_bioprocess_protein', 'gene/protein'): 120369, ('biological_process', 'rev_exposure_bioprocess', 'exposure'): 1351, ('cellular_component', 'cellcomp_cellcomp', 'cellular_component'): 8056, ('cellular_component', 'rev_cellcomp_protein', 'gene/protein'): 69328, ('cellular_component', 'rev_exposure_cellcomp', 'exposure'): 9, ('disease', 'disease_disease', 'disease'): 53522, ('disease', 'disease_phenotype_negative', 'effect/phenotype'): 991, ('disease', 'disease_phenotype_positive', 'effect/phenotype'): 124951, ('disease', 'rev_contraindication', 'drug'): 25498, ('disease', 'rev_disease_protein', 'gene/protein'): 66841, ('disease', 'rev_exposure_disease', 'exposure'): 1915, ('disease', 'rev_indication', 'drug'): 7804, ('disease', 'rev_off-label use', 'drug'): 2135, ('drug', 'contraindication', 'disease'): 25498, ('drug', 'drug_drug', 'drug'): 2221622, ('drug', 'drug_effect', 'effect/phenotype'): 53852, ('drug', 'drug_protein', 'gene/protein'): 21324, ('drug', 'indication', 'disease'): 7804, ('drug', 'off-label use', 'disease'): 2135, ('effect/phenotype', 'phenotype_phenotype', 'effect/phenotype'): 31148, ('effect/phenotype', 'rev_disease_phenotype_negative', 'disease'): 991, ('effect/phenotype', 'rev_disease_phenotype_positive', 'disease'): 124951, ('effect/phenotype', 'rev_drug_effect', 'drug'): 53852, ('effect/phenotype', 'rev_phenotype_protein', 'gene/protein'): 2768, ('exposure', 'exposure_bioprocess', 'biological_process'): 1351, ('exposure', 'exposure_cellcomp', 'cellular_component'): 9, ('exposure', 'exposure_disease', 'disease'): 1915, ('exposure', 'exposure_exposure', 'exposure'): 3440, ('exposure', 'exposure_molfunc', 'molecular_function'): 38, ('exposure', 'exposure_protein', 'gene/protein'): 1007, ('gene/protein', 'anatomy_protein_absent', 'anatomy'): 16531, ('gene/protein', 'anatomy_protein_present', 'anatomy'): 1262006, ('gene/protein', 'bioprocess_protein', 'biological_process'): 120369, ('gene/protein', 'cellcomp_protein', 'cellular_component'): 69328, ('gene/protein', 'disease_protein', 'disease'): 66841, ('gene/protein', 'molfunc_protein', 'molecular_function'): 57797, ('gene/protein', 'pathway_protein', 'pathway'): 35450, ('gene/protein', 'phenotype_protein', 'effect/phenotype'): 2768, ('gene/protein', 'protein_protein', 'gene/protein'): 533786, ('gene/protein', 'rev_drug_protein', 'drug'): 21324, ('gene/protein', 'rev_exposure_protein', 'exposure'): 1007, ('molecular_function', 'molfunc_molfunc', 'molecular_function'): 22566, ('molecular_function', 'rev_exposure_molfunc', 'exposure'): 38, ('molecular_function', 'rev_molfunc_protein', 'gene/protein'): 57797, ('pathway', 'pathway_pathway', 'pathway'): 4214, ('pathway', 'rev_pathway_protein', 'gene/protein'): 35450},\n",
       "      metagraph=[('anatomy', 'anatomy', 'anatomy_anatomy'), ('anatomy', 'gene/protein', 'rev_anatomy_protein_absent'), ('anatomy', 'gene/protein', 'rev_anatomy_protein_present'), ('gene/protein', 'anatomy', 'anatomy_protein_absent'), ('gene/protein', 'anatomy', 'anatomy_protein_present'), ('gene/protein', 'biological_process', 'bioprocess_protein'), ('gene/protein', 'cellular_component', 'cellcomp_protein'), ('gene/protein', 'disease', 'disease_protein'), ('gene/protein', 'molecular_function', 'molfunc_protein'), ('gene/protein', 'pathway', 'pathway_protein'), ('gene/protein', 'effect/phenotype', 'phenotype_protein'), ('gene/protein', 'gene/protein', 'protein_protein'), ('gene/protein', 'drug', 'rev_drug_protein'), ('gene/protein', 'exposure', 'rev_exposure_protein'), ('biological_process', 'biological_process', 'bioprocess_bioprocess'), ('biological_process', 'gene/protein', 'rev_bioprocess_protein'), ('biological_process', 'exposure', 'rev_exposure_bioprocess'), ('exposure', 'biological_process', 'exposure_bioprocess'), ('exposure', 'cellular_component', 'exposure_cellcomp'), ('exposure', 'disease', 'exposure_disease'), ('exposure', 'exposure', 'exposure_exposure'), ('exposure', 'molecular_function', 'exposure_molfunc'), ('exposure', 'gene/protein', 'exposure_protein'), ('cellular_component', 'cellular_component', 'cellcomp_cellcomp'), ('cellular_component', 'gene/protein', 'rev_cellcomp_protein'), ('cellular_component', 'exposure', 'rev_exposure_cellcomp'), ('disease', 'disease', 'disease_disease'), ('disease', 'effect/phenotype', 'disease_phenotype_negative'), ('disease', 'effect/phenotype', 'disease_phenotype_positive'), ('disease', 'drug', 'rev_contraindication'), ('disease', 'drug', 'rev_indication'), ('disease', 'drug', 'rev_off-label use'), ('disease', 'gene/protein', 'rev_disease_protein'), ('disease', 'exposure', 'rev_exposure_disease'), ('effect/phenotype', 'effect/phenotype', 'phenotype_phenotype'), ('effect/phenotype', 'disease', 'rev_disease_phenotype_negative'), ('effect/phenotype', 'disease', 'rev_disease_phenotype_positive'), ('effect/phenotype', 'drug', 'rev_drug_effect'), ('effect/phenotype', 'gene/protein', 'rev_phenotype_protein'), ('drug', 'disease', 'contraindication'), ('drug', 'disease', 'indication'), ('drug', 'disease', 'off-label use'), ('drug', 'drug', 'drug_drug'), ('drug', 'effect/phenotype', 'drug_effect'), ('drug', 'gene/protein', 'drug_protein'), ('molecular_function', 'molecular_function', 'molfunc_molfunc'), ('molecular_function', 'exposure', 'rev_exposure_molfunc'), ('molecular_function', 'gene/protein', 'rev_molfunc_protein'), ('pathway', 'pathway', 'pathway_pathway'), ('pathway', 'gene/protein', 'rev_pathway_protein')])"
      ]
     },
     "execution_count": 23,
     "metadata": {},
     "output_type": "execute_result"
    }
   ],
   "source": [
    "TxData_inst.G"
   ]
  },
  {
   "cell_type": "code",
   "execution_count": 7,
   "metadata": {},
   "outputs": [
    {
     "data": {
      "text/plain": [
       "Graph(num_nodes={'biological_process': 28642, 'cellular_component': 4176, 'disease': 17080, 'drug': 7957, 'effect/phenotype': 15311, 'exposure': 818, 'gene/protein': 27610, 'molecular_function': 11169, 'pathway': 2516},\n",
       "      num_edges={('biological_process', 'bioprocess_bioprocess', 'biological_process'): 87924, ('biological_process', 'rev_bioprocess_protein', 'gene/protein'): 120369, ('biological_process', 'rev_exposure_bioprocess', 'exposure'): 1351, ('cellular_component', 'cellcomp_cellcomp', 'cellular_component'): 8056, ('cellular_component', 'rev_cellcomp_protein', 'gene/protein'): 69328, ('cellular_component', 'rev_exposure_cellcomp', 'exposure'): 9, ('disease', 'disease_disease', 'disease'): 53522, ('disease', 'disease_phenotype_negative', 'effect/phenotype'): 991, ('disease', 'disease_phenotype_positive', 'effect/phenotype'): 124951, ('disease', 'rev_contraindication', 'drug'): 25498, ('disease', 'rev_disease_protein', 'gene/protein'): 66841, ('disease', 'rev_exposure_disease', 'exposure'): 1915, ('disease', 'rev_indication', 'drug'): 7804, ('disease', 'rev_off-label use', 'drug'): 2135, ('drug', 'contraindication', 'disease'): 25498, ('drug', 'drug_drug', 'drug'): 2221622, ('drug', 'drug_effect', 'effect/phenotype'): 53852, ('drug', 'drug_protein', 'gene/protein'): 21324, ('drug', 'indication', 'disease'): 7804, ('drug', 'off-label use', 'disease'): 2135, ('effect/phenotype', 'phenotype_phenotype', 'effect/phenotype'): 31148, ('effect/phenotype', 'rev_disease_phenotype_negative', 'disease'): 991, ('effect/phenotype', 'rev_disease_phenotype_positive', 'disease'): 124951, ('effect/phenotype', 'rev_drug_effect', 'drug'): 53852, ('effect/phenotype', 'rev_phenotype_protein', 'gene/protein'): 2768, ('exposure', 'exposure_bioprocess', 'biological_process'): 1351, ('exposure', 'exposure_cellcomp', 'cellular_component'): 9, ('exposure', 'exposure_disease', 'disease'): 1915, ('exposure', 'exposure_exposure', 'exposure'): 3440, ('exposure', 'exposure_molfunc', 'molecular_function'): 38, ('exposure', 'exposure_protein', 'gene/protein'): 1007, ('gene/protein', 'bioprocess_protein', 'biological_process'): 120369, ('gene/protein', 'cellcomp_protein', 'cellular_component'): 69328, ('gene/protein', 'disease_protein', 'disease'): 66841, ('gene/protein', 'molfunc_protein', 'molecular_function'): 57797, ('gene/protein', 'pathway_protein', 'pathway'): 35450, ('gene/protein', 'phenotype_protein', 'effect/phenotype'): 2768, ('gene/protein', 'protein_protein', 'gene/protein'): 533786, ('gene/protein', 'rev_drug_protein', 'drug'): 21324, ('gene/protein', 'rev_exposure_protein', 'exposure'): 1007, ('molecular_function', 'molfunc_molfunc', 'molecular_function'): 22566, ('molecular_function', 'rev_exposure_molfunc', 'exposure'): 38, ('molecular_function', 'rev_molfunc_protein', 'gene/protein'): 57797, ('pathway', 'pathway_pathway', 'pathway'): 4214, ('pathway', 'rev_pathway_protein', 'gene/protein'): 35450},\n",
       "      metagraph=[('biological_process', 'biological_process', 'bioprocess_bioprocess'), ('biological_process', 'gene/protein', 'rev_bioprocess_protein'), ('biological_process', 'exposure', 'rev_exposure_bioprocess'), ('gene/protein', 'biological_process', 'bioprocess_protein'), ('gene/protein', 'cellular_component', 'cellcomp_protein'), ('gene/protein', 'disease', 'disease_protein'), ('gene/protein', 'molecular_function', 'molfunc_protein'), ('gene/protein', 'pathway', 'pathway_protein'), ('gene/protein', 'effect/phenotype', 'phenotype_protein'), ('gene/protein', 'gene/protein', 'protein_protein'), ('gene/protein', 'drug', 'rev_drug_protein'), ('gene/protein', 'exposure', 'rev_exposure_protein'), ('exposure', 'biological_process', 'exposure_bioprocess'), ('exposure', 'cellular_component', 'exposure_cellcomp'), ('exposure', 'disease', 'exposure_disease'), ('exposure', 'exposure', 'exposure_exposure'), ('exposure', 'molecular_function', 'exposure_molfunc'), ('exposure', 'gene/protein', 'exposure_protein'), ('cellular_component', 'cellular_component', 'cellcomp_cellcomp'), ('cellular_component', 'gene/protein', 'rev_cellcomp_protein'), ('cellular_component', 'exposure', 'rev_exposure_cellcomp'), ('disease', 'disease', 'disease_disease'), ('disease', 'effect/phenotype', 'disease_phenotype_negative'), ('disease', 'effect/phenotype', 'disease_phenotype_positive'), ('disease', 'drug', 'rev_contraindication'), ('disease', 'drug', 'rev_indication'), ('disease', 'drug', 'rev_off-label use'), ('disease', 'gene/protein', 'rev_disease_protein'), ('disease', 'exposure', 'rev_exposure_disease'), ('effect/phenotype', 'effect/phenotype', 'phenotype_phenotype'), ('effect/phenotype', 'disease', 'rev_disease_phenotype_negative'), ('effect/phenotype', 'disease', 'rev_disease_phenotype_positive'), ('effect/phenotype', 'drug', 'rev_drug_effect'), ('effect/phenotype', 'gene/protein', 'rev_phenotype_protein'), ('drug', 'disease', 'contraindication'), ('drug', 'disease', 'indication'), ('drug', 'disease', 'off-label use'), ('drug', 'drug', 'drug_drug'), ('drug', 'effect/phenotype', 'drug_effect'), ('drug', 'gene/protein', 'drug_protein'), ('molecular_function', 'molecular_function', 'molfunc_molfunc'), ('molecular_function', 'exposure', 'rev_exposure_molfunc'), ('molecular_function', 'gene/protein', 'rev_molfunc_protein'), ('pathway', 'pathway', 'pathway_pathway'), ('pathway', 'gene/protein', 'rev_pathway_protein')])"
      ]
     },
     "execution_count": 7,
     "metadata": {},
     "output_type": "execute_result"
    }
   ],
   "source": [
    "TxData_inst.G"
   ]
  },
  {
   "cell_type": "code",
   "execution_count": 20,
   "metadata": {},
   "outputs": [
    {
     "data": {
      "text/plain": [
       "Graph(num_nodes={'anatomy': 14033, 'biological_process': 28642, 'cellular_component': 4176, 'drug': 7957, 'effect/phenotype': 15311, 'exposure': 818, 'gene/protein': 27610, 'molecular_function': 11169, 'pathway': 2516},\n",
       "      num_edges={('anatomy', 'anatomy_anatomy', 'anatomy'): 23328, ('anatomy', 'rev_anatomy_protein_absent', 'gene/protein'): 16531, ('anatomy', 'rev_anatomy_protein_present', 'gene/protein'): 1262006, ('biological_process', 'bioprocess_bioprocess', 'biological_process'): 87924, ('biological_process', 'rev_bioprocess_protein', 'gene/protein'): 120369, ('biological_process', 'rev_exposure_bioprocess', 'exposure'): 1351, ('cellular_component', 'cellcomp_cellcomp', 'cellular_component'): 8056, ('cellular_component', 'rev_cellcomp_protein', 'gene/protein'): 69328, ('cellular_component', 'rev_exposure_cellcomp', 'exposure'): 9, ('drug', 'drug_drug', 'drug'): 2221622, ('drug', 'drug_effect', 'effect/phenotype'): 53852, ('drug', 'drug_protein', 'gene/protein'): 21324, ('effect/phenotype', 'phenotype_phenotype', 'effect/phenotype'): 31148, ('effect/phenotype', 'rev_drug_effect', 'drug'): 53852, ('effect/phenotype', 'rev_phenotype_protein', 'gene/protein'): 2768, ('exposure', 'exposure_bioprocess', 'biological_process'): 1351, ('exposure', 'exposure_cellcomp', 'cellular_component'): 9, ('exposure', 'exposure_exposure', 'exposure'): 3440, ('exposure', 'exposure_molfunc', 'molecular_function'): 38, ('exposure', 'exposure_protein', 'gene/protein'): 1007, ('gene/protein', 'anatomy_protein_absent', 'anatomy'): 16531, ('gene/protein', 'anatomy_protein_present', 'anatomy'): 1262006, ('gene/protein', 'bioprocess_protein', 'biological_process'): 120369, ('gene/protein', 'cellcomp_protein', 'cellular_component'): 69328, ('gene/protein', 'molfunc_protein', 'molecular_function'): 57797, ('gene/protein', 'pathway_protein', 'pathway'): 35450, ('gene/protein', 'phenotype_protein', 'effect/phenotype'): 2768, ('gene/protein', 'protein_protein', 'gene/protein'): 533786, ('gene/protein', 'rev_drug_protein', 'drug'): 21324, ('gene/protein', 'rev_exposure_protein', 'exposure'): 1007, ('molecular_function', 'molfunc_molfunc', 'molecular_function'): 22566, ('molecular_function', 'rev_exposure_molfunc', 'exposure'): 38, ('molecular_function', 'rev_molfunc_protein', 'gene/protein'): 57797, ('pathway', 'pathway_pathway', 'pathway'): 4214, ('pathway', 'rev_pathway_protein', 'gene/protein'): 35450},\n",
       "      metagraph=[('anatomy', 'anatomy', 'anatomy_anatomy'), ('anatomy', 'gene/protein', 'rev_anatomy_protein_absent'), ('anatomy', 'gene/protein', 'rev_anatomy_protein_present'), ('gene/protein', 'anatomy', 'anatomy_protein_absent'), ('gene/protein', 'anatomy', 'anatomy_protein_present'), ('gene/protein', 'biological_process', 'bioprocess_protein'), ('gene/protein', 'cellular_component', 'cellcomp_protein'), ('gene/protein', 'molecular_function', 'molfunc_protein'), ('gene/protein', 'pathway', 'pathway_protein'), ('gene/protein', 'effect/phenotype', 'phenotype_protein'), ('gene/protein', 'gene/protein', 'protein_protein'), ('gene/protein', 'drug', 'rev_drug_protein'), ('gene/protein', 'exposure', 'rev_exposure_protein'), ('biological_process', 'biological_process', 'bioprocess_bioprocess'), ('biological_process', 'gene/protein', 'rev_bioprocess_protein'), ('biological_process', 'exposure', 'rev_exposure_bioprocess'), ('exposure', 'biological_process', 'exposure_bioprocess'), ('exposure', 'cellular_component', 'exposure_cellcomp'), ('exposure', 'exposure', 'exposure_exposure'), ('exposure', 'molecular_function', 'exposure_molfunc'), ('exposure', 'gene/protein', 'exposure_protein'), ('cellular_component', 'cellular_component', 'cellcomp_cellcomp'), ('cellular_component', 'gene/protein', 'rev_cellcomp_protein'), ('cellular_component', 'exposure', 'rev_exposure_cellcomp'), ('drug', 'drug', 'drug_drug'), ('drug', 'effect/phenotype', 'drug_effect'), ('drug', 'gene/protein', 'drug_protein'), ('effect/phenotype', 'effect/phenotype', 'phenotype_phenotype'), ('effect/phenotype', 'drug', 'rev_drug_effect'), ('effect/phenotype', 'gene/protein', 'rev_phenotype_protein'), ('molecular_function', 'molecular_function', 'molfunc_molfunc'), ('molecular_function', 'exposure', 'rev_exposure_molfunc'), ('molecular_function', 'gene/protein', 'rev_molfunc_protein'), ('pathway', 'pathway', 'pathway_pathway'), ('pathway', 'gene/protein', 'rev_pathway_protein')])"
      ]
     },
     "execution_count": 20,
     "metadata": {},
     "output_type": "execute_result"
    }
   ],
   "source": [
    "g"
   ]
  }
 ],
 "metadata": {
  "kernelspec": {
   "display_name": "txgnn_env2",
   "language": "python",
   "name": "python3"
  },
  "language_info": {
   "codemirror_mode": {
    "name": "ipython",
    "version": 3
   },
   "file_extension": ".py",
   "mimetype": "text/x-python",
   "name": "python",
   "nbconvert_exporter": "python",
   "pygments_lexer": "ipython3",
   "version": "3.8.18"
  }
 },
 "nbformat": 4,
 "nbformat_minor": 2
}
